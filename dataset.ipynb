{
 "cells": [
  {
   "cell_type": "markdown",
   "metadata": {},
   "source": [
    "## Dataset"
   ]
  },
  {
   "cell_type": "markdown",
   "metadata": {},
   "source": [
    "What is cpe? https://www.acunetix.com/blog/articles/common-platform-enumeration-cpe-explained/"
   ]
  },
  {
   "cell_type": "code",
   "execution_count": 1,
   "metadata": {},
   "outputs": [
    {
     "name": "stdout",
     "output_type": "stream",
     "text": [
      "os                 0\n",
      "ip_str             0\n",
      "port               0\n",
      "module             0\n",
      "cpe           734580\n",
      "cpe_count          0\n",
      "category           0\n",
      "os_generic         0\n",
      "single_cpe    824511\n",
      "dtype: int64\n"
     ]
    },
    {
     "data": {
      "text/html": [
       "<div>\n",
       "<style scoped>\n",
       "    .dataframe tbody tr th:only-of-type {\n",
       "        vertical-align: middle;\n",
       "    }\n",
       "\n",
       "    .dataframe tbody tr th {\n",
       "        vertical-align: top;\n",
       "    }\n",
       "\n",
       "    .dataframe thead th {\n",
       "        text-align: right;\n",
       "    }\n",
       "</style>\n",
       "<table border=\"1\" class=\"dataframe\">\n",
       "  <thead>\n",
       "    <tr style=\"text-align: right;\">\n",
       "      <th></th>\n",
       "      <th>os</th>\n",
       "      <th>ip_str</th>\n",
       "      <th>port</th>\n",
       "      <th>module</th>\n",
       "      <th>cpe</th>\n",
       "      <th>cpe_count</th>\n",
       "      <th>category</th>\n",
       "      <th>os_generic</th>\n",
       "      <th>single_cpe</th>\n",
       "    </tr>\n",
       "  </thead>\n",
       "  <tbody>\n",
       "    <tr>\n",
       "      <th>0</th>\n",
       "      <td>Ubuntu</td>\n",
       "      <td>43.205.13.243</td>\n",
       "      <td>21</td>\n",
       "      <td>ftp</td>\n",
       "      <td>NaN</td>\n",
       "      <td>0</td>\n",
       "      <td>file_sharing</td>\n",
       "      <td>ubuntu</td>\n",
       "      <td>NaN</td>\n",
       "    </tr>\n",
       "    <tr>\n",
       "      <th>1</th>\n",
       "      <td>Ubuntu</td>\n",
       "      <td>43.205.13.243</td>\n",
       "      <td>22</td>\n",
       "      <td>ssh</td>\n",
       "      <td>['cpe:/a:openbsd:openssh:8.2p1 Ubuntu-4ubuntu0...</td>\n",
       "      <td>1</td>\n",
       "      <td>remote_access</td>\n",
       "      <td>ubuntu</td>\n",
       "      <td>cpe:/a:openbsd:openssh:8.2p1 Ubuntu-4ubuntu0.5</td>\n",
       "    </tr>\n",
       "    <tr>\n",
       "      <th>2</th>\n",
       "      <td>Ubuntu</td>\n",
       "      <td>43.205.13.243</td>\n",
       "      <td>80</td>\n",
       "      <td>http</td>\n",
       "      <td>['cpe:/a:igor_sysoev:nginx']</td>\n",
       "      <td>1</td>\n",
       "      <td>webserver</td>\n",
       "      <td>ubuntu</td>\n",
       "      <td>cpe:/a:igor_sysoev:nginx</td>\n",
       "    </tr>\n",
       "    <tr>\n",
       "      <th>3</th>\n",
       "      <td>Ubuntu</td>\n",
       "      <td>43.205.13.243</td>\n",
       "      <td>443</td>\n",
       "      <td>https</td>\n",
       "      <td>['cpe:/a:igor_sysoev:nginx']</td>\n",
       "      <td>1</td>\n",
       "      <td>webserver</td>\n",
       "      <td>ubuntu</td>\n",
       "      <td>cpe:/a:igor_sysoev:nginx</td>\n",
       "    </tr>\n",
       "    <tr>\n",
       "      <th>4</th>\n",
       "      <td>Windows (Build 6.3.9600)</td>\n",
       "      <td>206.233.189.205</td>\n",
       "      <td>80</td>\n",
       "      <td>http</td>\n",
       "      <td>['cpe:/a:igor_sysoev:nginx']</td>\n",
       "      <td>1</td>\n",
       "      <td>webserver</td>\n",
       "      <td>windows</td>\n",
       "      <td>cpe:/a:igor_sysoev:nginx</td>\n",
       "    </tr>\n",
       "  </tbody>\n",
       "</table>\n",
       "</div>"
      ],
      "text/plain": [
       "                         os           ip_str  port module  \\\n",
       "0                    Ubuntu    43.205.13.243    21    ftp   \n",
       "1                    Ubuntu    43.205.13.243    22    ssh   \n",
       "2                    Ubuntu    43.205.13.243    80   http   \n",
       "3                    Ubuntu    43.205.13.243   443  https   \n",
       "4  Windows (Build 6.3.9600)  206.233.189.205    80   http   \n",
       "\n",
       "                                                 cpe  cpe_count  \\\n",
       "0                                                NaN          0   \n",
       "1  ['cpe:/a:openbsd:openssh:8.2p1 Ubuntu-4ubuntu0...          1   \n",
       "2                       ['cpe:/a:igor_sysoev:nginx']          1   \n",
       "3                       ['cpe:/a:igor_sysoev:nginx']          1   \n",
       "4                       ['cpe:/a:igor_sysoev:nginx']          1   \n",
       "\n",
       "        category os_generic                                      single_cpe  \n",
       "0   file_sharing     ubuntu                                             NaN  \n",
       "1  remote_access     ubuntu  cpe:/a:openbsd:openssh:8.2p1 Ubuntu-4ubuntu0.5  \n",
       "2      webserver     ubuntu                        cpe:/a:igor_sysoev:nginx  \n",
       "3      webserver     ubuntu                        cpe:/a:igor_sysoev:nginx  \n",
       "4      webserver    windows                        cpe:/a:igor_sysoev:nginx  "
      ]
     },
     "execution_count": 1,
     "metadata": {},
     "output_type": "execute_result"
    }
   ],
   "source": [
    "import pandas as pd\n",
    "import numpy as np\n",
    "import json\n",
    "import datasets\n",
    "np.random.seed(42)\n",
    "\n",
    "datapath = '/mnt/data/sonia/honeygan/data/processed/data.csv'\n",
    "df = pd.read_csv(datapath)\n",
    "print(df.isna().sum())\n",
    "df.head()"
   ]
  },
  {
   "cell_type": "code",
   "execution_count": 6,
   "metadata": {},
   "outputs": [
    {
     "name": "stderr",
     "output_type": "stream",
     "text": [
      "/tmp/ipykernel_171728/1581207609.py:2: SettingWithCopyWarning: \n",
      "A value is trying to be set on a copy of a slice from a DataFrame.\n",
      "Try using .loc[row_indexer,col_indexer] = value instead\n",
      "\n",
      "See the caveats in the documentation: https://pandas.pydata.org/pandas-docs/stable/user_guide/indexing.html#returning-a-view-versus-a-copy\n",
      "  dfs['port_str'] = dfs.apply(lambda x: str(x['port']), axis=1)\n"
     ]
    },
    {
     "data": {
      "text/html": [
       "<div>\n",
       "<style scoped>\n",
       "    .dataframe tbody tr th:only-of-type {\n",
       "        vertical-align: middle;\n",
       "    }\n",
       "\n",
       "    .dataframe tbody tr th {\n",
       "        vertical-align: top;\n",
       "    }\n",
       "\n",
       "    .dataframe thead th {\n",
       "        text-align: right;\n",
       "    }\n",
       "</style>\n",
       "<table border=\"1\" class=\"dataframe\">\n",
       "  <thead>\n",
       "    <tr style=\"text-align: right;\">\n",
       "      <th></th>\n",
       "      <th>os_generic</th>\n",
       "      <th>ip_str</th>\n",
       "      <th>port_str</th>\n",
       "      <th>module</th>\n",
       "    </tr>\n",
       "  </thead>\n",
       "  <tbody>\n",
       "    <tr>\n",
       "      <th>1</th>\n",
       "      <td>ubuntu</td>\n",
       "      <td>43.205.13.243</td>\n",
       "      <td>22</td>\n",
       "      <td>ssh</td>\n",
       "    </tr>\n",
       "    <tr>\n",
       "      <th>2</th>\n",
       "      <td>ubuntu</td>\n",
       "      <td>43.205.13.243</td>\n",
       "      <td>80</td>\n",
       "      <td>http</td>\n",
       "    </tr>\n",
       "    <tr>\n",
       "      <th>3</th>\n",
       "      <td>ubuntu</td>\n",
       "      <td>43.205.13.243</td>\n",
       "      <td>443</td>\n",
       "      <td>https</td>\n",
       "    </tr>\n",
       "    <tr>\n",
       "      <th>4</th>\n",
       "      <td>windows</td>\n",
       "      <td>206.233.189.205</td>\n",
       "      <td>80</td>\n",
       "      <td>http</td>\n",
       "    </tr>\n",
       "    <tr>\n",
       "      <th>6</th>\n",
       "      <td>windows</td>\n",
       "      <td>206.233.189.205</td>\n",
       "      <td>8081</td>\n",
       "      <td>https-simple-new</td>\n",
       "    </tr>\n",
       "  </tbody>\n",
       "</table>\n",
       "</div>"
      ],
      "text/plain": [
       "  os_generic           ip_str port_str            module\n",
       "1     ubuntu    43.205.13.243       22               ssh\n",
       "2     ubuntu    43.205.13.243       80              http\n",
       "3     ubuntu    43.205.13.243      443             https\n",
       "4    windows  206.233.189.205       80              http\n",
       "6    windows  206.233.189.205     8081  https-simple-new"
      ]
     },
     "execution_count": 6,
     "metadata": {},
     "output_type": "execute_result"
    }
   ],
   "source": [
    "dfs = df[(~df.single_cpe.isna())]\n",
    "dfs['port_str'] = dfs.apply(lambda x: str(x['port']), axis=1)\n",
    "dfs = dfs[['os_generic', 'ip_str', 'port_str', 'module']]\n",
    "dfs.head()"
   ]
  },
  {
   "cell_type": "code",
   "execution_count": 7,
   "metadata": {},
   "outputs": [
    {
     "data": {
      "text/plain": [
       "{'prompt': ['a ', ' at IP ', ', port ', ', offering service ', '']}"
      ]
     },
     "execution_count": 7,
     "metadata": {},
     "output_type": "execute_result"
    }
   ],
   "source": [
    "prompt = datasets.Dataset.from_dict({'prompt': ['a ', ' at IP ', ', port ', ', offering service ', '',]})\n",
    "prompt[:]"
   ]
  },
  {
   "cell_type": "code",
   "execution_count": 8,
   "metadata": {},
   "outputs": [
    {
     "data": {
      "text/plain": [
       "{'os_generic': ['ubuntu', 'ubuntu', 'ubuntu', 'windows', 'windows'],\n",
       " 'ip_str': ['43.205.13.243',\n",
       "  '43.205.13.243',\n",
       "  '43.205.13.243',\n",
       "  '206.233.189.205',\n",
       "  '206.233.189.205'],\n",
       " 'port_str': ['22', '80', '443', '80', '8081'],\n",
       " 'module': ['ssh', 'http', 'https', 'http', 'https-simple-new']}"
      ]
     },
     "execution_count": 8,
     "metadata": {},
     "output_type": "execute_result"
    }
   ],
   "source": [
    "data = datasets.Dataset.from_pandas(dfs)\n",
    "data = data.remove_columns(\"__index_level_0__\")\n",
    "data[:5]"
   ]
  },
  {
   "cell_type": "code",
   "execution_count": 9,
   "metadata": {},
   "outputs": [
    {
     "data": {
      "text/plain": [
       "35"
      ]
     },
     "execution_count": 9,
     "metadata": {},
     "output_type": "execute_result"
    }
   ],
   "source": [
    "prompt_len = sum([len(chunk) for chunk in prompt['prompt']])\n",
    "prompt_len"
   ]
  },
  {
   "cell_type": "code",
   "execution_count": 10,
   "metadata": {},
   "outputs": [
    {
     "data": {
      "application/vnd.jupyter.widget-view+json": {
       "model_id": "041d476fe10d4147a93a2f1092b61a79",
       "version_major": 2,
       "version_minor": 0
      },
      "text/plain": [
       "Map:   0%|          | 0/219434 [00:00<?, ? examples/s]"
      ]
     },
     "metadata": {},
     "output_type": "display_data"
    }
   ],
   "source": [
    "data = data.map(lambda x: {'length': sum([len(col) for col in x.values()]) + prompt_len})"
   ]
  },
  {
   "cell_type": "code",
   "execution_count": 11,
   "metadata": {},
   "outputs": [
    {
     "name": "stdout",
     "output_type": "stream",
     "text": [
      "177741 19749 21944 0.809997539123381 0.08999972656926457 0.10000273430735437\n"
     ]
    },
    {
     "data": {
      "text/plain": [
       "DatasetDict({\n",
       "    train: Dataset({\n",
       "        features: ['os_generic', 'ip_str', 'port_str', 'module', 'length'],\n",
       "        num_rows: 177741\n",
       "    })\n",
       "    eval: Dataset({\n",
       "        features: ['os_generic', 'ip_str', 'port_str', 'module', 'length'],\n",
       "        num_rows: 19749\n",
       "    })\n",
       "    test: Dataset({\n",
       "        features: ['os_generic', 'ip_str', 'port_str', 'module', 'length'],\n",
       "        num_rows: 21944\n",
       "    })\n",
       "    prompt: Dataset({\n",
       "        features: ['prompt'],\n",
       "        num_rows: 5\n",
       "    })\n",
       "})"
      ]
     },
     "execution_count": 11,
     "metadata": {},
     "output_type": "execute_result"
    }
   ],
   "source": [
    "split = data.train_test_split(test_size=0.1)\n",
    "trainval, test = split['train'], split['test']\n",
    "split = trainval.train_test_split(test_size=0.1)\n",
    "train, val = split['train'], split['test']\n",
    "print(len(train), len(val), len(test), len(train)/len(data), len(val)/len(data), len(test)/len(data))\n",
    "ds = datasets.DatasetDict({\n",
    "    'train': train,\n",
    "    'eval': val,\n",
    "    'test': test,\n",
    "    'prompt': prompt})\n",
    "ds"
   ]
  },
  {
   "cell_type": "markdown",
   "metadata": {},
   "source": [
    "## Save"
   ]
  },
  {
   "cell_type": "code",
   "execution_count": 20,
   "metadata": {},
   "outputs": [
    {
     "data": {
      "application/vnd.jupyter.widget-view+json": {
       "model_id": "961fb1a1904040309c481b00a95e262e",
       "version_major": 2,
       "version_minor": 0
      },
      "text/plain": [
       "Saving the dataset (0/1 shards):   0%|          | 0/177741 [00:00<?, ? examples/s]"
      ]
     },
     "metadata": {},
     "output_type": "display_data"
    },
    {
     "data": {
      "application/vnd.jupyter.widget-view+json": {
       "model_id": "c26464de8de3493c88f117d594e74f30",
       "version_major": 2,
       "version_minor": 0
      },
      "text/plain": [
       "Saving the dataset (0/1 shards):   0%|          | 0/19749 [00:00<?, ? examples/s]"
      ]
     },
     "metadata": {},
     "output_type": "display_data"
    },
    {
     "data": {
      "application/vnd.jupyter.widget-view+json": {
       "model_id": "fc0486b0a0ea4f11ab3419985c1de2f3",
       "version_major": 2,
       "version_minor": 0
      },
      "text/plain": [
       "Saving the dataset (0/1 shards):   0%|          | 0/21944 [00:00<?, ? examples/s]"
      ]
     },
     "metadata": {},
     "output_type": "display_data"
    },
    {
     "data": {
      "application/vnd.jupyter.widget-view+json": {
       "model_id": "128b82055a4746a79a5b10ce06f04317",
       "version_major": 2,
       "version_minor": 0
      },
      "text/plain": [
       "Saving the dataset (0/1 shards):   0%|          | 0/5 [00:00<?, ? examples/s]"
      ]
     },
     "metadata": {},
     "output_type": "display_data"
    }
   ],
   "source": [
    "ds.save_to_disk('/mnt/data/sonia/honeygan/apr23.dat')"
   ]
  },
  {
   "cell_type": "code",
   "execution_count": 2,
   "metadata": {},
   "outputs": [
    {
     "data": {
      "text/plain": [
       "DatasetDict({\n",
       "    eval: Dataset({\n",
       "        features: ['os_generic', 'ip_str', 'port_str', 'module', 'length'],\n",
       "        num_rows: 19749\n",
       "    })\n",
       "    prompt: Dataset({\n",
       "        features: ['prompt'],\n",
       "        num_rows: 5\n",
       "    })\n",
       "    train: Dataset({\n",
       "        features: ['os_generic', 'ip_str', 'port_str', 'module', 'length'],\n",
       "        num_rows: 177741\n",
       "    })\n",
       "    test: Dataset({\n",
       "        features: ['os_generic', 'ip_str', 'port_str', 'module', 'length'],\n",
       "        num_rows: 21944\n",
       "    })\n",
       "})"
      ]
     },
     "execution_count": 2,
     "metadata": {},
     "output_type": "execute_result"
    }
   ],
   "source": [
    "import os\n",
    "p='/mnt/data/sonia/honeygan/apr23.dat'\n",
    "\n",
    "if 'dataset_dict.json' in os.listdir(p):\n",
    "    dataset = datasets.DatasetDict({})\n",
    "    for f in os.listdir(p):\n",
    "        if f.endswith('.json'): continue\n",
    "        dataset[f] = datasets.load_from_disk(os.path.join('/mnt/data/sonia/honeygan/apr23.dat', f))\n",
    "        \n",
    "dataset"
   ]
  },
  {
   "cell_type": "code",
   "execution_count": 3,
   "metadata": {},
   "outputs": [
    {
     "data": {
      "text/plain": [
       "['a ', ' at IP ', ', port ', ', offering service ', '']"
      ]
     },
     "execution_count": 3,
     "metadata": {},
     "output_type": "execute_result"
    }
   ],
   "source": [
    "dataset['prompt']['prompt']"
   ]
  },
  {
   "cell_type": "code",
   "execution_count": 24,
   "metadata": {},
   "outputs": [
    {
     "data": {
      "text/plain": [
       "{0: 'os_generic', 1: 'ip_str', 2: 'port_str', 3: 'module', 4: 'length'}"
      ]
     },
     "execution_count": 24,
     "metadata": {},
     "output_type": "execute_result"
    }
   ],
   "source": [
    "feats = list(dataset['train'].features)\n",
    "{k:v for k,v in zip(list(range(len(feats))), feats)}"
   ]
  },
  {
   "cell_type": "code",
   "execution_count": 11,
   "metadata": {},
   "outputs": [],
   "source": [
    "from transformers import AutoTokenizer\n",
    "tok_path = '/mnt/data/zoo/llama2/llama2-7b-hf/'\n",
    "tokenizer = AutoTokenizer.from_pretrained(\n",
    "    tok_path,\n",
    "    cache_dir=None,\n",
    "    padding_side=\"right\",\n",
    "    use_fast=False, # Fast tokenizer giving issues.\n",
    "    tokenizer_type='llama',\n",
    "    trust_remote_code=True,\n",
    ")"
   ]
  },
  {
   "cell_type": "code",
   "execution_count": 23,
   "metadata": {},
   "outputs": [
    {
     "data": {
      "text/plain": [
       "[1, 0]"
      ]
     },
     "execution_count": 23,
     "metadata": {},
     "output_type": "execute_result"
    }
   ],
   "source": [
    "tokenizer.encode('<unk>')"
   ]
  },
  {
   "cell_type": "code",
   "execution_count": 24,
   "metadata": {},
   "outputs": [
    {
     "data": {
      "text/plain": [
       "[1,\n",
       " 8294,\n",
       " 0,\n",
       " 29946,\n",
       " 29941,\n",
       " 29889,\n",
       " 29906,\n",
       " 29900,\n",
       " 29945,\n",
       " 29889,\n",
       " 29896,\n",
       " 29941,\n",
       " 29889,\n",
       " 29906,\n",
       " 29946,\n",
       " 29941,\n",
       " 0,\n",
       " 29906,\n",
       " 29906,\n",
       " 0,\n",
       " 29883,\n",
       " 412,\n",
       " 8419,\n",
       " 29874,\n",
       " 29901,\n",
       " 3150,\n",
       " 29890,\n",
       " 4928,\n",
       " 29901,\n",
       " 22156,\n",
       " 845,\n",
       " 29901,\n",
       " 29947,\n",
       " 29889,\n",
       " 29906,\n",
       " 29886,\n",
       " 29896,\n",
       " 8294,\n",
       " 29899,\n",
       " 29946,\n",
       " 8767,\n",
       " 29900,\n",
       " 29889,\n",
       " 29945]"
      ]
     },
     "execution_count": 24,
     "metadata": {},
     "output_type": "execute_result"
    }
   ],
   "source": [
    "tokenizer.encode('Ubuntu<unk>43.205.13.243<unk>22<unk>cpe:/a:openbsd:openssh:8.2p1 Ubuntu-4ubuntu0.5')"
   ]
  },
  {
   "cell_type": "code",
   "execution_count": null,
   "metadata": {},
   "outputs": [],
   "source": []
  }
 ],
 "metadata": {
  "kernelspec": {
   "display_name": "otmt",
   "language": "python",
   "name": "python3"
  },
  "language_info": {
   "codemirror_mode": {
    "name": "ipython",
    "version": 3
   },
   "file_extension": ".py",
   "mimetype": "text/x-python",
   "name": "python",
   "nbconvert_exporter": "python",
   "pygments_lexer": "ipython3",
   "version": "3.11.4"
  },
  "orig_nbformat": 4
 },
 "nbformat": 4,
 "nbformat_minor": 2
}
