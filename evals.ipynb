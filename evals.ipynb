{
 "cells": [
  {
   "cell_type": "code",
   "execution_count": 14,
   "metadata": {},
   "outputs": [
    {
     "name": "stdout",
     "output_type": "stream",
     "text": [
      "The autoreload extension is already loaded. To reload it, use:\n",
      "  %reload_ext autoreload\n"
     ]
    }
   ],
   "source": [
    "%load_ext autoreload\n",
    "%autoreload 2\n",
    "import pandas as pd\n",
    "from sklearn import preprocessing, pipeline, ensemble, compose\n",
    "import datasets\n",
    "import os\n",
    "\n",
    "real_path = '/mnt/data/sonia/datasets/adult/may8.dat'\n",
    "synth_path= ['/mnt/data/sonia/datasets/synthetic/adult/may10.dat', \n",
    "             '/mnt/data/sonia/datasets/synthetic/adult/may10.dat-1', \n",
    "             './may10.dat']\n",
    "oh_path = 'vanilla-adult-clean.dat'\n",
    "gan_path = '/home/sonia/TabFairGAN/fake_adult.csv'"
   ]
  },
  {
   "cell_type": "code",
   "execution_count": 23,
   "metadata": {},
   "outputs": [
    {
     "name": "stdout",
     "output_type": "stream",
     "text": [
      "sampling all datasets to smallest size of 9895\n"
     ]
    },
    {
     "data": {
      "text/plain": [
       "((9895, 6), (9895, 6), (9895, 6), (9895, 6))"
      ]
     },
     "execution_count": 23,
     "metadata": {},
     "output_type": "execute_result"
    }
   ],
   "source": [
    "full_dataset = datasets.DatasetDict({})\n",
    "for f in os.listdir(real_path):\n",
    "    if f.endswith('.json'): continue\n",
    "    full_dataset[f] = datasets.load_from_disk(os.path.join(real_path, f))\n",
    "real = full_dataset['train'].to_pandas().drop(['length'], axis=1)\n",
    "syntha= datasets.load_from_disk(synth_path[0]).to_pandas()\n",
    "synthb= datasets.load_from_disk(synth_path[1]).to_pandas()\n",
    "synthc= datasets.load_from_disk(synth_path[2]).to_pandas()\n",
    "synth = pd.concat([syntha, synthb, synthc])\n",
    "synth.columns = real.columns\n",
    "\n",
    "gan = pd.read_csv(gan_path)[real.columns]\n",
    "gan['native-country'] = gan.apply(lambda x: ' '.join(x['native-country'].strip().split('-')), axis=1)\n",
    "gan['age'] = gan.apply(lambda x: str(x['age']), axis=1)\n",
    "gan['sex'] = gan.apply(lambda x: x['sex'].strip(), axis=1)\n",
    "gan['education'] = gan.apply(lambda x: x['education'].strip(), axis=1)\n",
    "gan['occupation'] = gan.apply(lambda x: ' '.join(x['occupation'].strip().split('-')), axis=1)\n",
    "inc_map = {' <=50K': 'under 50K', ' >50K': 'over 50K'}\n",
    "gan['income'] = gan.apply(lambda x: inc_map[x['income']], axis=1)\n",
    "\n",
    "ohl = datasets.load_from_disk(oh_path).to_pandas().drop('__index_level_0__', axis=1)\n",
    "ohl.columns = real.columns\n",
    "\n",
    "min_dataset_size = min(synth.shape[0], gan.shape[0], real.shape[0], ohl.shape[0])\n",
    "print('sampling all datasets to smallest size of', min_dataset_size)\n",
    "synth = synth.sample(min_dataset_size, random_state=42)\n",
    "gan =gan.sample(min_dataset_size, random_state=42)\n",
    "real = real.sample(min_dataset_size, random_state=42)\n",
    "ohl = ohl.sample(min_dataset_size, random_state=42)\n",
    "synth.shape, real.shape, gan.shape, ohl.shape"
   ]
  },
  {
   "cell_type": "code",
   "execution_count": 24,
   "metadata": {},
   "outputs": [
    {
     "data": {
      "text/plain": [
       "(      age     sex native-country     education         occupation     income\n",
       " 10020  40    Male  United States       HS-grad       Craft repair  under 50K\n",
       " 4265   32  Female  United States   Prof-school              Sales   over 50K\n",
       " 12013  36    Male  United States       HS-grad       Craft repair  under 50K\n",
       " 13167  34  Female  United States       HS-grad  Machine op inspct  under 50K\n",
       " 33559  56    Male  United States  Some-college              Sales   over 50K,\n",
       "      age     sex native-country     education       occupation     income\n",
       " 5106  52  Female  United States  Some-college  Farming fishing  under 50K\n",
       " 1418  25  Female  United States  Some-college     Armed Forces  under 50K\n",
       " 4828  46  Female  United States  Some-college     Armed Forces  under 50K\n",
       " 651   44  Female  United States  Some-college     Craft repair  under 50K\n",
       " 3298  17  Female  United States  Some-college     Adm clerical  under 50K,\n",
       "         age   sex native-country     education         occupation     income\n",
       " 14160  17.0  Male  United States       HS-grad  Machine op inspct  under 50K\n",
       " 27048  17.0  Male  United States  Some-college       Craft repair  under 50K\n",
       " 28868  27.0  Male  United States       HS-grad  Handlers cleaners  under 50K\n",
       " 5667   17.0  Male  United States     Bachelors    Exec managerial  under 50K\n",
       " 7827   32.0  Male  United States       HS-grad       Craft repair   over 50K,\n",
       "      age     sex native-country  education    occupation     income\n",
       " 6476  56  Female  United States    HS-grad         Sales  under 50K\n",
       " 1496  30  Female  United States    HS-grad  Craft repair  under 50K\n",
       " 2225  31    Male         Mexico    HS-grad         Sales  under 50K\n",
       " 932   21    Male  United States  Bachelors         Sales  under 50K\n",
       " 7908  55    Male         Mexico       10th  Craft repair  under 50K)"
      ]
     },
     "execution_count": 24,
     "metadata": {},
     "output_type": "execute_result"
    }
   ],
   "source": [
    "datadict = {'real':real, 'llama':synth, 'gan':gan, 'OH llama':ohl}\n",
    "real.head(), synth.head(), gan.head(), ohl.head()"
   ]
  },
  {
   "cell_type": "code",
   "execution_count": 25,
   "metadata": {},
   "outputs": [],
   "source": [
    "ords = ['sex', 'native-country', 'education', 'occupation'] # MUST BE IN ORDER\n",
    "nums = ['age',]\n",
    "labs = ['income']\n",
    "\n",
    "# for each ord column, get all unique values occurign in real/synth, train/test\n",
    "categories = []\n",
    "for name in ords:\n",
    "    s = set(real[name].unique().tolist())\n",
    "    s.update(synth[name].unique().tolist())\n",
    "    \n",
    "    categories.append( list(s) )\n",
    "# categories\n",
    "\n",
    "ordenc = preprocessing.OrdinalEncoder(categories=categories)\n",
    "numenc = preprocessing.StandardScaler()\n",
    "lb = preprocessing.LabelBinarizer()"
   ]
  },
  {
   "cell_type": "code",
   "execution_count": 26,
   "metadata": {},
   "outputs": [],
   "source": [
    "def create_pipeline(trainset):\n",
    "    rfc = ensemble.RandomForestClassifier()\n",
    "    preprocessing_pipeline = compose.ColumnTransformer([\n",
    "        (\"ordinal_preprocessor\", ordenc, ords),\n",
    "        (\"numerical_preprocessor\", numenc, nums),\n",
    "    ])\n",
    "    complete_pipeline = pipeline.Pipeline([\n",
    "        (\"preprocessor\", preprocessing_pipeline),\n",
    "        (\"estimator\", rfc)\n",
    "    ])\n",
    "    \n",
    "    preprocessed_labels = lb.fit_transform(trainset[labs])\n",
    "    complete_pipeline.fit(trainset[ords+nums], preprocessed_labels)\n",
    "    return complete_pipeline"
   ]
  },
  {
   "cell_type": "code",
   "execution_count": 27,
   "metadata": {},
   "outputs": [],
   "source": [
    "%%capture\n",
    "rf_synth = create_pipeline(synth)\n",
    "rf_real  = create_pipeline(real)\n",
    "rf_gan   = create_pipeline(gan)\n",
    "rf_ohl   = create_pipeline(ohl)\n",
    "rfdict = {'llama': rf_synth, 'real': rf_real, 'gan':rf_gan, \"OH llama\":rf_ohl}"
   ]
  },
  {
   "cell_type": "code",
   "execution_count": 7,
   "metadata": {},
   "outputs": [],
   "source": [
    "# preprocessed_labels_synth = lb.fit_transform(synth[labs])\n",
    "# preprocessed_labels_real  = lb.fit_transform(real[labs])\n",
    "# synth_on_synth = rf_synth.score(synth[ords+nums], preprocessed_labels_synth)\n",
    "# synth_on_real  = rf_synth.score(real[ords+nums], preprocessed_labels_real)\n",
    "# real_on_synth  = rf_real.score(synth[ords+nums], preprocessed_labels_synth)\n",
    "# real_on_real   = rf_real.score(real[ords+nums], preprocessed_labels_real)\n",
    "# print('synth_on_synth', 'synth_on_real', 'real_on_synth', 'real_on_real', sep='\\t\\t')\n",
    "# print(synth_on_synth, synth_on_real, real_on_synth, real_on_real, sep='\\t\\t')"
   ]
  },
  {
   "cell_type": "code",
   "execution_count": 28,
   "metadata": {},
   "outputs": [
    {
     "name": "stdout",
     "output_type": "stream",
     "text": [
      "llama on real: \t\t\t0.7574532592218292\n",
      "real on real: \t\t\t0.892066700353714\n",
      "gan on real: \t\t\t0.7727134916624557\n",
      "OH llama on real: \t\t\t0.7649317837291562\n",
      "llama on llama: \t\t\t0.9998989388580091\n",
      "real on llama: \t\t\t0.942900454775139\n",
      "gan on llama: \t\t\t0.9241030823648307\n",
      "OH llama on llama: \t\t\t0.9401718039413846\n",
      "llama on gan: \t\t\t0.7617988883274381\n",
      "real on gan: \t\t\t0.7753410813542193\n",
      "gan on gan: \t\t\t0.8964123294593229\n",
      "OH llama on gan: \t\t\t0.7678625568468924\n",
      "llama on OH llama: \t\t\t0.8304194037392623\n",
      "real on OH llama: \t\t\t0.7633148054573017\n",
      "gan on OH llama: \t\t\t0.7741283476503285\n",
      "OH llama on OH llama: \t\t\t0.8865083375442142\n"
     ]
    }
   ],
   "source": [
    "for data in datadict.keys():\n",
    "    labels = lb.fit_transform(datadict[data][labs])\n",
    "    for model in rfdict.keys():\n",
    "        score = rfdict[model].score(datadict[data][ords+nums], labels)\n",
    "        print(f'{model} on {data}: \\t\\t\\t{score}')"
   ]
  },
  {
   "cell_type": "code",
   "execution_count": null,
   "metadata": {},
   "outputs": [],
   "source": []
  }
 ],
 "metadata": {
  "kernelspec": {
   "display_name": "llama",
   "language": "python",
   "name": "python3"
  },
  "language_info": {
   "codemirror_mode": {
    "name": "ipython",
    "version": 3
   },
   "file_extension": ".py",
   "mimetype": "text/x-python",
   "name": "python",
   "nbconvert_exporter": "python",
   "pygments_lexer": "ipython3",
   "version": "3.11.4"
  }
 },
 "nbformat": 4,
 "nbformat_minor": 2
}
