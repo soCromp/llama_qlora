{
 "cells": [
  {
   "cell_type": "code",
   "execution_count": 14,
   "metadata": {},
   "outputs": [
    {
     "name": "stdout",
     "output_type": "stream",
     "text": [
      "The autoreload extension is already loaded. To reload it, use:\n",
      "  %reload_ext autoreload\n"
     ]
    }
   ],
   "source": [
    "%load_ext autoreload\n",
    "%autoreload 2\n",
    "import pandas as pd\n",
    "from sklearn import preprocessing, pipeline, ensemble, compose\n",
    "import datasets\n",
    "import os\n",
    "\n",
    "real_path = '/mnt/data/sonia/datasets/adult/may8.dat'\n",
    "synth_path= ['/mnt/data/sonia/datasets/synthetic/adult/may10.dat', \n",
    "             '/mnt/data/sonia/datasets/synthetic/adult/may10.dat-1', \n",
    "             './may10.dat']\n",
    "gan_path = '/home/sonia/TabFairGAN/fake_adult.csv'"
   ]
  },
  {
   "cell_type": "code",
   "execution_count": 22,
   "metadata": {},
   "outputs": [
    {
     "data": {
      "text/plain": [
       "((10250, 6), (10250, 6), (10250, 6))"
      ]
     },
     "execution_count": 22,
     "metadata": {},
     "output_type": "execute_result"
    }
   ],
   "source": [
    "full_dataset = datasets.DatasetDict({})\n",
    "for f in os.listdir(real_path):\n",
    "    if f.endswith('.json'): continue\n",
    "    full_dataset[f] = datasets.load_from_disk(os.path.join(real_path, f))\n",
    "real = full_dataset['train'].to_pandas().drop(['length'], axis=1)\n",
    "syntha= datasets.load_from_disk(synth_path[0]).to_pandas()\n",
    "synthb= datasets.load_from_disk(synth_path[1]).to_pandas()\n",
    "synthc= datasets.load_from_disk(synth_path[2]).to_pandas()\n",
    "synth = pd.concat([syntha, synthb, synthc])\n",
    "synth.columns = real.columns\n",
    "real = real.sample(synth.shape[0], random_state=42)\n",
    "\n",
    "gan = pd.read_csv(gan_path)[real.columns].sample(synth.shape[0], random_state=42)\n",
    "gan['native-country'] = gan.apply(lambda x: ' '.join(x['native-country'].strip().split('-')), axis=1)\n",
    "gan['age'] = gan.apply(lambda x: str(x['age']), axis=1)\n",
    "gan['sex'] = gan.apply(lambda x: x['sex'].strip(), axis=1)\n",
    "gan['education'] = gan.apply(lambda x: x['education'].strip(), axis=1)\n",
    "gan['occupation'] = gan.apply(lambda x: ' '.join(x['occupation'].strip().split('-')), axis=1)\n",
    "inc_map = {' <=50K': 'under 50K', ' >50K': 'over 50K'}\n",
    "gan['income'] = gan.apply(lambda x: inc_map[x['income']], axis=1)\n",
    "synth.shape, real.shape, gan.shape"
   ]
  },
  {
   "cell_type": "code",
   "execution_count": 23,
   "metadata": {},
   "outputs": [
    {
     "data": {
      "text/plain": [
       "(      age     sex native-country     education         occupation     income\n",
       " 10020  40    Male  United States       HS-grad       Craft repair  under 50K\n",
       " 4265   32  Female  United States   Prof-school              Sales   over 50K\n",
       " 12013  36    Male  United States       HS-grad       Craft repair  under 50K\n",
       " 13167  34  Female  United States       HS-grad  Machine op inspct  under 50K\n",
       " 33559  56    Male  United States  Some-college              Sales   over 50K,\n",
       "   age     sex native-country     education         occupation     income\n",
       " 0  47  Female  United States  Some-college  Handlers cleaners  under 50K\n",
       " 1  35  Female  United States  Some-college       Armed Forces  under 50K\n",
       " 2  65  Female  United States     Doctorate       Armed Forces  under 50K\n",
       " 3  19  Female  United States          11th    Protective serv  under 50K\n",
       " 4  54    Male  United States     Assoc-voc       Armed Forces  under 50K,\n",
       "         age   sex native-country     education         occupation     income\n",
       " 14160  17.0  Male  United States       HS-grad  Machine op inspct  under 50K\n",
       " 27048  17.0  Male  United States  Some-college       Craft repair  under 50K\n",
       " 28868  27.0  Male  United States       HS-grad  Handlers cleaners  under 50K\n",
       " 5667   17.0  Male  United States     Bachelors    Exec managerial  under 50K\n",
       " 7827   32.0  Male  United States       HS-grad       Craft repair   over 50K)"
      ]
     },
     "execution_count": 23,
     "metadata": {},
     "output_type": "execute_result"
    }
   ],
   "source": [
    "datadict = {'real':real, 'llama':synth, 'gan':gan}\n",
    "real.head(), synth.head(), gan.head()"
   ]
  },
  {
   "cell_type": "code",
   "execution_count": 24,
   "metadata": {},
   "outputs": [],
   "source": [
    "ords = ['sex', 'native-country', 'education', 'occupation'] # MUST BE IN ORDER\n",
    "nums = ['age',]\n",
    "labs = ['income']\n",
    "\n",
    "# for each ord column, get all unique values occurign in real/synth, train/test\n",
    "categories = []\n",
    "for name in ords:\n",
    "    s = set(real[name].unique().tolist())\n",
    "    s.update(synth[name].unique().tolist())\n",
    "    \n",
    "    categories.append( list(s) )\n",
    "# categories\n",
    "\n",
    "ordenc = preprocessing.OrdinalEncoder(categories=categories)\n",
    "numenc = preprocessing.StandardScaler()\n",
    "lb = preprocessing.LabelBinarizer()"
   ]
  },
  {
   "cell_type": "code",
   "execution_count": 25,
   "metadata": {},
   "outputs": [],
   "source": [
    "def create_pipeline(trainset):\n",
    "    rfc = ensemble.RandomForestClassifier()\n",
    "    preprocessing_pipeline = compose.ColumnTransformer([\n",
    "        (\"ordinal_preprocessor\", ordenc, ords),\n",
    "        (\"numerical_preprocessor\", numenc, nums),\n",
    "    ])\n",
    "    complete_pipeline = pipeline.Pipeline([\n",
    "        (\"preprocessor\", preprocessing_pipeline),\n",
    "        (\"estimator\", rfc)\n",
    "    ])\n",
    "    \n",
    "    preprocessed_labels = lb.fit_transform(trainset[labs])\n",
    "    complete_pipeline.fit(trainset[ords+nums], preprocessed_labels)\n",
    "    return complete_pipeline"
   ]
  },
  {
   "cell_type": "code",
   "execution_count": 29,
   "metadata": {},
   "outputs": [],
   "source": [
    "%%capture\n",
    "rf_synth = create_pipeline(synth)\n",
    "rf_real  = create_pipeline(real)\n",
    "rf_gan   = create_pipeline(gan)\n",
    "rfdict = {'llama': rf_synth, 'real': rf_real, 'gan':rf_gan}"
   ]
  },
  {
   "cell_type": "code",
   "execution_count": 27,
   "metadata": {},
   "outputs": [
    {
     "name": "stdout",
     "output_type": "stream",
     "text": [
      "synth_on_synth\t\tsynth_on_real\t\treal_on_synth\t\treal_on_real\n",
      "0.9999024390243902\t\t0.7568780487804878\t\t0.9305365853658537\t\t0.8907317073170732\n"
     ]
    }
   ],
   "source": [
    "# preprocessed_labels_synth = lb.fit_transform(synth[labs])\n",
    "# preprocessed_labels_real  = lb.fit_transform(real[labs])\n",
    "# synth_on_synth = rf_synth.score(synth[ords+nums], preprocessed_labels_synth)\n",
    "# synth_on_real  = rf_synth.score(real[ords+nums], preprocessed_labels_real)\n",
    "# real_on_synth  = rf_real.score(synth[ords+nums], preprocessed_labels_synth)\n",
    "# real_on_real   = rf_real.score(real[ords+nums], preprocessed_labels_real)\n",
    "# print('synth_on_synth', 'synth_on_real', 'real_on_synth', 'real_on_real', sep='\\t\\t')\n",
    "# print(synth_on_synth, synth_on_real, real_on_synth, real_on_real, sep='\\t\\t')"
   ]
  },
  {
   "cell_type": "code",
   "execution_count": 1,
   "metadata": {},
   "outputs": [
    {
     "ename": "NameError",
     "evalue": "name 'datadict' is not defined",
     "output_type": "error",
     "traceback": [
      "\u001b[0;31m---------------------------------------------------------------------------\u001b[0m",
      "\u001b[0;31mNameError\u001b[0m                                 Traceback (most recent call last)",
      "Cell \u001b[0;32mIn[1], line 1\u001b[0m\n\u001b[0;32m----> 1\u001b[0m \u001b[38;5;28;01mfor\u001b[39;00m data \u001b[38;5;129;01min\u001b[39;00m datadict\u001b[38;5;241m.\u001b[39mvalues():\n\u001b[1;32m      2\u001b[0m     labels \u001b[38;5;241m=\u001b[39m lb\u001b[38;5;241m.\u001b[39mfit_transform(datadict[data][labs])\n\u001b[1;32m      3\u001b[0m     \u001b[38;5;28;01mfor\u001b[39;00m model \u001b[38;5;129;01min\u001b[39;00m rfdict\u001b[38;5;241m.\u001b[39mvalues():\n",
      "\u001b[0;31mNameError\u001b[0m: name 'datadict' is not defined"
     ]
    }
   ],
   "source": [
    "for data in datadict.values():\n",
    "    labels = lb.fit_transform(datadict[data][labs])\n",
    "    for model in rfdict.values():\n",
    "        score = rfdict[model].score(datadict[data][ords+nums], labels)\n",
    "        print(f'{model} on {data}: \\t\\t\\t{score}')"
   ]
  },
  {
   "cell_type": "code",
   "execution_count": null,
   "metadata": {},
   "outputs": [],
   "source": []
  }
 ],
 "metadata": {
  "kernelspec": {
   "display_name": "llama",
   "language": "python",
   "name": "python3"
  },
  "language_info": {
   "codemirror_mode": {
    "name": "ipython",
    "version": 3
   },
   "file_extension": ".py",
   "mimetype": "text/x-python",
   "name": "python",
   "nbconvert_exporter": "python",
   "pygments_lexer": "ipython3",
   "version": "3.11.4"
  }
 },
 "nbformat": 4,
 "nbformat_minor": 2
}
