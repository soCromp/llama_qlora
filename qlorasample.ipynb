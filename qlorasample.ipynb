{
 "cells": [
  {
   "cell_type": "code",
   "execution_count": 1,
   "metadata": {},
   "outputs": [],
   "source": [
    "import os\n",
    "os.environ[\"CUDA_VISIBLE_DEVICES\"]=\"1\"\n",
    "from peft import AutoPeftModelForCausalLM\n",
    "from transformers import AutoTokenizer, LlamaTokenizer\n",
    "import torch\n",
    "import json"
   ]
  },
  {
   "cell_type": "code",
   "execution_count": 2,
   "metadata": {},
   "outputs": [],
   "source": [
    "tokenizer = LlamaTokenizer.from_pretrained('/mnt/data/zoo/llama2/llama2-7b-hf/')\n",
    "batch_size = 4\n",
    "input = tokenizer(\n",
    "    # batch_size*[''],\n",
    "    ['Server #5 is a',], \n",
    "    return_tensors=\"pt\",\n",
    ")  # Batch size 1\n",
    "input = {x:input[x].cuda() for x in input}"
   ]
  },
  {
   "cell_type": "code",
   "execution_count": 3,
   "metadata": {},
   "outputs": [
    {
     "name": "stdout",
     "output_type": "stream",
     "text": [
      "/mnt/data/sonia/ckpts/debug/checkpoint-5/\n"
     ]
    },
    {
     "data": {
      "application/vnd.jupyter.widget-view+json": {
       "model_id": "dd200b4ffefa43d299c49bb447b68565",
       "version_major": 2,
       "version_minor": 0
      },
      "text/plain": [
       "Loading checkpoint shards:   0%|          | 0/2 [00:00<?, ?it/s]"
      ]
     },
     "metadata": {},
     "output_type": "display_data"
    }
   ],
   "source": [
    "step=5\n",
    "output_dir = f'/mnt/data/sonia/ckpts/debug/checkpoint-{step}/'\n",
    "print(output_dir)\n",
    "model = AutoPeftModelForCausalLM.from_pretrained(output_dir, device_map=\"auto\", torch_dtype=torch.bfloat16)\n",
    "# model=model.merge_and_unload()"
   ]
  },
  {
   "cell_type": "code",
   "execution_count": 4,
   "metadata": {},
   "outputs": [],
   "source": [
    "input_ids = torch.Tensor([[    1,  5618, 29915, 29879,   385,  2980,   363,   322,  2750,   278,\n",
    "           671,   310,   321,  2806, 16397,   423, 23125,   363,   382,  2806,\n",
    "         16397,   423,    13, 29896, 29889,   382,  2806, 16397,   423,   338,\n",
    "           263,  3165,  1662,   982,   304,  1095, 23164,   297,  6624,   635,\n",
    "          4486, 22069,  1058,   526, 23164,   515,   297,  2764,   519, 10267,\n",
    "          2129,   470,  5855, 29889,    13, 29906, 29889,   739,  6511,   963,\n",
    "           304,   762,   411, 18085,   537, 29892,  1728,  1641,  4967,   287,\n",
    "           304, 19039,  6788,   322, 23164, 29889,    13, 29941, 29889,   739,\n",
    "          1104, 17180,  1009, 13175,   515,  2534,   304, 16277,   278, 16500,\n",
    "         30010, 29879, 23164,   322,  8128, 10776,   310,  3458,   304,  1716,\n",
    "           278, 16500,   322,  3942,  5144, 29889,    13, 29946, 29889,   739,\n",
    "          6911, 10032,   278,  3438,   310,  9045,  2562,   491, 14372,   437,\n",
    "         14359,   304,  8569,   373, 13138,  2253, 11029,  2562,  2012,   310,\n",
    "         27044,   292,   278, 27116,  1889, 29889,    13, 29945, 29889,   739,\n",
    "           884, 26830,   278,  6866,  1145,   373, 12459,   408,   372,  3005,\n",
    "           267,   701, 13457,   289,  5779,   322,  7788,   393,   723,  6467,\n",
    "           367,  1304,   304,  7539,  6624,   635,  4486,  2305, 29889,    13,\n",
    "         29953, 29889,   739,   508,   884,  1371,  1104,  2418, 23023,  1848,\n",
    "         22884,   373,  7875,   322,  3942,  5144,  1058,  1122,   505,   304,\n",
    "          6505,   263, 18012,   697,  8812,  1549,  8638,  4486,  2264, 29889,\n",
    "            13, 29955, 29889,  9788, 29892,   372,   508,  3867, 13016,   304,\n",
    "          1906,  1058,   526, 23164,   515,   867,  2575,   322,  6410,  2861,\n",
    "           304,   278,  4892,   310,  4856,  3802,   304,   963, 29889,     2]]).to(torch.int)\n",
    "attention_mask = torch.Tensor([[True, True, True, True, True, True, True, True, True, True, True, True,\n",
    "         True, True, True, True, True, True, True, True, True, True, True, True,\n",
    "         True, True, True, True, True, True, True, True, True, True, True, True,\n",
    "         True, True, True, True, True, True, True, True, True, True, True, True,\n",
    "         True, True, True, True, True, True, True, True, True, True, True, True,\n",
    "         True, True, True, True, True, True, True, True, True, True, True, True,\n",
    "         True, True, True, True, True, True, True, True, True, True, True, True,\n",
    "         True, True, True, True, True, True, True, True, True, True, True, True,\n",
    "         True, True, True, True, True, True, True, True, True, True, True, True,\n",
    "         True, True, True, True, True, True, True, True, True, True, True, True,\n",
    "         True, True, True, True, True, True, True, True, True, True, True, True,\n",
    "         True, True, True, True, True, True, True, True, True, True, True, True,\n",
    "         True, True, True, True, True, True, True, True, True, True, True, True,\n",
    "         True, True, True, True, True, True, True, True, True, True, True, True,\n",
    "         True, True, True, True, True, True, True, True, True, True, True, True,\n",
    "         True, True, True, True, True, True, True, True, True, True, True, True,\n",
    "         True, True, True, True, True, True, True, True, True, True, True, True,\n",
    "         True, True, True, True, True, True, True, True, True, True, True, True,\n",
    "         True, True, True, True, True, True, True, True, True, True, True, True,\n",
    "         True, True]]).to(torch.bool)\n",
    "labels = torch.Tensor([[ -100,  -100,  -100,  -100,  -100,  -100,  -100,  -100,  -100,  -100,\n",
    "          -100,  -100,  -100,  -100,  -100,  -100, 23125,   363,   382,  2806,\n",
    "         16397,   423,    13, 29896, 29889,   382,  2806, 16397,   423,   338,\n",
    "           263,  3165,  1662,   982,   304,  1095, 23164,   297,  6624,   635,\n",
    "          4486, 22069,  1058,   526, 23164,   515,   297,  2764,   519, 10267,\n",
    "          2129,   470,  5855, 29889,    13, 29906, 29889,   739,  6511,   963,\n",
    "           304,   762,   411, 18085,   537, 29892,  1728,  1641,  4967,   287,\n",
    "           304, 19039,  6788,   322, 23164, 29889,    13, 29941, 29889,   739,\n",
    "          1104, 17180,  1009, 13175,   515,  2534,   304, 16277,   278, 16500,\n",
    "         30010, 29879, 23164,   322,  8128, 10776,   310,  3458,   304,  1716,\n",
    "           278, 16500,   322,  3942,  5144, 29889,    13, 29946, 29889,   739,\n",
    "          6911, 10032,   278,  3438,   310,  9045,  2562,   491, 14372,   437,\n",
    "         14359,   304,  8569,   373, 13138,  2253, 11029,  2562,  2012,   310,\n",
    "         27044,   292,   278, 27116,  1889, 29889,    13, 29945, 29889,   739,\n",
    "           884, 26830,   278,  6866,  1145,   373, 12459,   408,   372,  3005,\n",
    "           267,   701, 13457,   289,  5779,   322,  7788,   393,   723,  6467,\n",
    "           367,  1304,   304,  7539,  6624,   635,  4486,  2305, 29889,    13,\n",
    "         29953, 29889,   739,   508,   884,  1371,  1104,  2418, 23023,  1848,\n",
    "         22884,   373,  7875,   322,  3942,  5144,  1058,  1122,   505,   304,\n",
    "          6505,   263, 18012,   697,  8812,  1549,  8638,  4486,  2264, 29889,\n",
    "            13, 29955, 29889,  9788, 29892,   372,   508,  3867, 13016,   304,\n",
    "          1906,  1058,   526, 23164,   515,   867,  2575,   322,  6410,  2861,\n",
    "           304,   278,  4892,   310,  4856,  3802,   304,   963, 29889,     2]]).to(torch.int)\n",
    "input={'input_ids':input_ids.cuda(), 'attention_mask':attention_mask.cuda(), 'labels':labels.cuda()}"
   ]
  },
  {
   "cell_type": "code",
   "execution_count": 5,
   "metadata": {},
   "outputs": [
    {
     "name": "stdout",
     "output_type": "stream",
     "text": [
      "What's an argument for and against the use of euthanasia Argument for Euthanasia\n",
      "1. Euthanasia is a humane way to end suffering in terminally ill patients who are suffering from incurable diseases or conditions.\n",
      "2. It allows them to die with dignity, without being subjected to unnecessary pain and suffering.\n",
      "3. It relieves their families from having to witness the patient’s suffering and provides peace of mind to both the patient and family members.\n",
      "4. It helps reduce the cost of health care by allowing doctors to focus on providing better quality care instead of prolonging the dying process.\n",
      "5. It also reduces the burden on society as it frees up hospital beds and resources that would otherwise be used to treat terminally ill people.\n",
      "6. It can also help relieve emotional stress on friends and family members who may have to watch a loved one suffer through terminal illness.\n",
      "7. Finally, it can provide comfort to those who are suffering from grief and loss due to the death of someone close to them.\n",
      "Argument for Euthanasia\n",
      "1. Euthanasia is a humane way to end suffering in terminally ill patients who are suffering from incurable diseases or conditions.\n",
      "2. It allows them to die with dignity, without being subjected to unnecessary pain and suffering.\n",
      "3. It relieves their families from having to witness the patient’s suffering and provides peace of mind to both the patient and family members.\n",
      "4. It helps reduce the cost of health care by allowing doctors to focus on providing better quality care instead of prolonging the dying process.\n",
      "5. It also reduces the burden on society as it frees up hospital beds and resources that would otherwise be used to treat terminally ill people.\n",
      "6. It can also help relieve emotional stress on friends and family members who may have to watch a loved one suffer through terminal illness.\n",
      "7. Finally, it can provide comfort to those who are suffering from grief and loss due to the death of someone close to them.\n"
     ]
    }
   ],
   "source": [
    "out=tokenizer.batch_decode(input_ids, skip_special_tokens=True, clean_up_tokenization_spaces=False)[0]\n",
    "print(out)\n",
    "out=tokenizer.batch_decode(labels[:,16:], skip_special_tokens=True, clean_up_tokenization_spaces=False)[0]\n",
    "print(out)"
   ]
  },
  {
   "cell_type": "code",
   "execution_count": 8,
   "metadata": {},
   "outputs": [
    {
     "name": "stdout",
     "output_type": "stream",
     "text": [
      "What's an argument for and against the use of euthanasia Argument for Euthanasia\n",
      "1. Euthanasia is a humane way to end suffering in terminally ill patients who are suffering from incurable diseases or conditions.\n",
      "2. It allows them to die with dignity, without being subjected to unnecessary pain and suffering.\n",
      "3. It relieves their families from having to witness the patient’s suffering and provides peace of mind to both the patient and family members.\n",
      "4. It helps reduce the cost of health care by allowing doctors to focus on providing better quality care instead of prolonging the dying process.\n",
      "5. It also reduces the burden on society as it frees up hospital beds and resources that would otherwise be used to treat terminally ill people.\n",
      "6. It can also help relieve emotional stress on friends and family members who may have to watch a loved one suffer through terminal illness.\n",
      "7. Finally, it can provide comfort to those who are suffering from grief and loss due to the death of someone close to them. Home » News » 2019 » 01 » USC Shoah Foundation and the University of Southern California Announce the Launch of the USC Institute for Iberian and Latin American Studies\n",
      "USC Shoah Foundation and the University of Southern California Announce the Launch of the USC Institute for Iberian and Latin American Studies\n",
      "USC Shoah Foundation and the University of Southern California (USC) today announced the launch of the USC Institute for Iberian and Latin American Studies (IILAS). The new institute will be a hub for research, teaching, and outreach on the history, culture, and politics of the Iberian Peninsula and Latin America.\n",
      "The institute will be led by USC Shoah Foundation Executive Director Stephen D. Smith, who will serve as the institute’s founding director. Smith will continue to serve as executive director of USC Shoah Foundation, which will remain an independent entity within the USC Dornsife College of Letters, Arts and Sciences.\n",
      "“The USC Institute for Iberian and Latin American Studies will be a unique and important resource for the USC community and the broader\n"
     ]
    }
   ],
   "source": [
    "outputs = model.generate(input_ids=input_ids.cuda(), attention_mask=attention_mask.cuda(), max_new_tokens=250, )\n",
    "out=tokenizer.batch_decode(outputs, skip_special_tokens=True, clean_up_tokenization_spaces=False)[0]\n",
    "for l in out.split('\\n'): print(l)"
   ]
  },
  {
   "cell_type": "code",
   "execution_count": null,
   "metadata": {},
   "outputs": [],
   "source": []
  }
 ],
 "metadata": {
  "kernelspec": {
   "display_name": "llama",
   "language": "python",
   "name": "python3"
  },
  "language_info": {
   "codemirror_mode": {
    "name": "ipython",
    "version": 3
   },
   "file_extension": ".py",
   "mimetype": "text/x-python",
   "name": "python",
   "nbconvert_exporter": "python",
   "pygments_lexer": "ipython3",
   "version": "3.11.4"
  },
  "orig_nbformat": 4
 },
 "nbformat": 4,
 "nbformat_minor": 2
}
