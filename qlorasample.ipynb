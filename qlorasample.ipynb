{
 "cells": [
  {
   "cell_type": "code",
   "execution_count": 1,
   "metadata": {},
   "outputs": [],
   "source": [
    "from peft import AutoPeftModelForCausalLM\n",
    "from transformers import AutoTokenizer, LlamaTokenizer\n",
    "import torch\n",
    "import json\n",
    "import os"
   ]
  },
  {
   "cell_type": "code",
   "execution_count": 2,
   "metadata": {},
   "outputs": [],
   "source": [
    "tokenizer = LlamaTokenizer.from_pretrained('/mnt/data/zoo/llama2/llama2-7b-hf/')\n",
    "batch_size = 4\n",
    "input_ids = tokenizer.encode('os:', return_tensors='pt')\n",
    "# tokenizer(\n",
    "#     # batch_size*[''],\n",
    "#     ['4235 ', '5462 ', '7132 ', '6460 '], \n",
    "#     return_tensors=\"pt\"\n",
    "# ).input_ids  # Batch size 1\n",
    "\n",
    "def sample(ckpt_dir, step):\n",
    "    output_dir = os.path.join(ckpt_dir, f'checkpoint-{step}') #f'/mnt/data/sonia/ckpts/llama-2-7b-jul25/checkpoint-{step}/'\n",
    "    print(output_dir)\n",
    "    model = AutoPeftModelForCausalLM.from_pretrained(output_dir, device_map=\"auto\", torch_dtype=torch.bfloat16)\n",
    "    model = model.merge_and_unload() #returns type transformers.models.llama.modeling_llama.LlamaForCausalLM\n",
    "    \n",
    "    outputs = model.generate(input_ids, max_new_tokens=100).cpu()\n",
    "    out=tokenizer.batch_decode(outputs, skip_special_tokens=True, clean_up_tokenization_spaces=False)\n",
    "    model = model.cpu()\n",
    "    return out"
   ]
  },
  {
   "cell_type": "code",
   "execution_count": 10,
   "metadata": {},
   "outputs": [
    {
     "name": "stdout",
     "output_type": "stream",
     "text": [
      "/mnt/data/sonia/ckpts/debug/checkpoint-20\n"
     ]
    },
    {
     "data": {
      "application/vnd.jupyter.widget-view+json": {
       "model_id": "111291ed34e24458bd92dd3576a42a45",
       "version_major": 2,
       "version_minor": 0
      },
      "text/plain": [
       "Loading checkpoint shards:   0%|          | 0/2 [00:00<?, ?it/s]"
      ]
     },
     "metadata": {},
     "output_type": "display_data"
    },
    {
     "data": {
      "text/plain": [
       "['os:\\n\\n    # 1. 설정 파일 생성\\n    # 2. 설정 파일 읽어오기\\n    # 3. 설정 파일 쓰기\\n    # 4. 설정 파일 삭제\\n    # 5. 설정 �']"
      ]
     },
     "execution_count": 10,
     "metadata": {},
     "output_type": "execute_result"
    }
   ],
   "source": [
    "s = sample('/mnt/data/sonia/ckpts/debug', 20)\n",
    "s"
   ]
  },
  {
   "cell_type": "code",
   "execution_count": 9,
   "metadata": {},
   "outputs": [
    {
     "name": "stdout",
     "output_type": "stream",
     "text": [
      "os:\n",
      "1 {'os': 'Windows Server 2012 R2 Datacenter 9600', 'ip_str': '10.10.10.10', 'port': 445, 'module': 'smb', 'cpe': None, 'cpe_count': 0, 'category': 'file_sharing', 'os_generic': 'windows server', 'single_cpe': None}\n"
     ]
    }
   ],
   "source": [
    "print(s[0])"
   ]
  },
  {
   "cell_type": "code",
   "execution_count": 6,
   "metadata": {},
   "outputs": [],
   "source": [
    "tokenizer = LlamaTokenizer.from_pretrained('/mnt/data/zoo/llama2/llama2-7b-hf/')\n",
    "batch_size = 4\n",
    "input = tokenizer(\n",
    "    # batch_size*[''],\n",
    "    ['There is a Ubuntu server visible at IP 43.205.13.243, port 22, offering the service cpe:/a:openbsd:openssh:8.2p1 Ubuntu-4ubuntu0.5.\\n',], \n",
    "    return_tensors=\"pt\",\n",
    ")  # Batch size 1\n",
    "input = {x:input[x].cuda() for x in input}"
   ]
  },
  {
   "cell_type": "code",
   "execution_count": 7,
   "metadata": {},
   "outputs": [
    {
     "name": "stdout",
     "output_type": "stream",
     "text": [
      "/mnt/data/sonia/ckpts/sent3/checkpoint-60/\n"
     ]
    },
    {
     "data": {
      "application/vnd.jupyter.widget-view+json": {
       "model_id": "ff5a219d8d48463db4ee5de4f74a87df",
       "version_major": 2,
       "version_minor": 0
      },
      "text/plain": [
       "Loading checkpoint shards:   0%|          | 0/2 [00:00<?, ?it/s]"
      ]
     },
     "metadata": {},
     "output_type": "display_data"
    }
   ],
   "source": [
    "step=60\n",
    "output_dir = f'/mnt/data/sonia/ckpts/sent3/checkpoint-{step}/'\n",
    "print(output_dir)\n",
    "model = AutoPeftModelForCausalLM.from_pretrained(output_dir, device_map=\"auto\", torch_dtype=torch.bfloat16)\n",
    "# model=model.merge_and_unload()"
   ]
  },
  {
   "cell_type": "code",
   "execution_count": 8,
   "metadata": {},
   "outputs": [
    {
     "name": "stderr",
     "output_type": "stream",
     "text": [
      "/mnt/data/sonia/miniconda3/envs/llama/lib/python3.11/site-packages/transformers/generation/utils.py:1270: UserWarning: You have modified the pretrained model configuration to control generation. This is a deprecated strategy to control generation and will be removed soon, in a future version. Please use a generation configuration file (see https://huggingface.co/docs/transformers/main_classes/text_generation )\n",
      "  warnings.warn(\n"
     ]
    },
    {
     "name": "stdout",
     "output_type": "stream",
     "text": [
      "There is a Ubuntu server visible at IP 43.205.13.243, port 22, offering the service cpe:/a:openbsd:openssh:8.2p1 Ubuntu-4ubuntu0.5.\n",
      "There is a Ubuntu server visible at IP 43.205.13.243, port 22, offering the service cpe:/a:openbsd:openssh:8.2p1 Ubuntu-4ubuntu0.5.\n",
      "263\n",
      "258\n"
     ]
    }
   ],
   "source": [
    "outputs = model.generate(**input, max_new_tokens=58)\n",
    "out=tokenizer.batch_decode(outputs, skip_special_tokens=True, clean_up_tokenization_spaces=False)\n",
    "print(out[0], len(out[0]), len(out[0])-5, sep='\\n')"
   ]
  },
  {
   "cell_type": "markdown",
   "metadata": {},
   "source": [
    "max_length"
   ]
  },
  {
   "cell_type": "code",
   "execution_count": 19,
   "metadata": {},
   "outputs": [
    {
     "name": "stdout",
     "output_type": "stream",
     "text": [
      "['<s>']\n",
      "['<s>There']\n",
      "['<s>There is']\n",
      "['<s>There is a']\n",
      "['<s>There is a Ubuntu']\n",
      "['<s>There is a Ubuntu server']\n",
      "['<s>There is a Ubuntu server visible']\n",
      "['<s>There is a Ubuntu server visible at']\n",
      "['<s>There is a Ubuntu server visible at IP']\n",
      "['<s>There is a Ubuntu server visible at IP ']\n",
      "['<s>There is a Ubuntu server visible at IP 4']\n",
      "['<s>There is a Ubuntu server visible at IP 43']\n",
      "['<s>There is a Ubuntu server visible at IP 43.']\n",
      "['<s>There is a Ubuntu server visible at IP 43.2']\n",
      "['<s>There is a Ubuntu server visible at IP 43.20']\n",
      "['<s>There is a Ubuntu server visible at IP 43.205']\n",
      "['<s>There is a Ubuntu server visible at IP 43.205.']\n",
      "['<s>There is a Ubuntu server visible at IP 43.205.1']\n",
      "['<s>There is a Ubuntu server visible at IP 43.205.13']\n",
      "['<s>There is a Ubuntu server visible at IP 43.205.13.']\n",
      "['<s>There is a Ubuntu server visible at IP 43.205.13.2']\n",
      "['<s>There is a Ubuntu server visible at IP 43.205.13.24']\n",
      "['<s>There is a Ubuntu server visible at IP 43.205.13.243']\n",
      "['<s>There is a Ubuntu server visible at IP 43.205.13.243,']\n",
      "['<s>There is a Ubuntu server visible at IP 43.205.13.243, port']\n",
      "['<s>There is a Ubuntu server visible at IP 43.205.13.243, port ']\n",
      "['<s>There is a Ubuntu server visible at IP 43.205.13.243, port 2']\n",
      "['<s>There is a Ubuntu server visible at IP 43.205.13.243, port 22']\n",
      "['<s>There is a Ubuntu server visible at IP 43.205.13.243, port 22,']\n",
      "['<s>There is a Ubuntu server visible at IP 43.205.13.243, port 22, offering']\n",
      "['<s>There is a Ubuntu server visible at IP 43.205.13.243, port 22, offering the']\n",
      "['<s>There is a Ubuntu server visible at IP 43.205.13.243, port 22, offering the service']\n",
      "['<s>There is a Ubuntu server visible at IP 43.205.13.243, port 22, offering the service c']\n",
      "['<s>There is a Ubuntu server visible at IP 43.205.13.243, port 22, offering the service cpe']\n",
      "['<s>There is a Ubuntu server visible at IP 43.205.13.243, port 22, offering the service cpe:/']\n",
      "['<s>There is a Ubuntu server visible at IP 43.205.13.243, port 22, offering the service cpe:/a']\n",
      "['<s>There is a Ubuntu server visible at IP 43.205.13.243, port 22, offering the service cpe:/a:']\n",
      "['<s>There is a Ubuntu server visible at IP 43.205.13.243, port 22, offering the service cpe:/a:open']\n",
      "['<s>There is a Ubuntu server visible at IP 43.205.13.243, port 22, offering the service cpe:/a:openb']\n",
      "['<s>There is a Ubuntu server visible at IP 43.205.13.243, port 22, offering the service cpe:/a:openbsd']\n",
      "['<s>There is a Ubuntu server visible at IP 43.205.13.243, port 22, offering the service cpe:/a:openbsd:']\n",
      "['<s>There is a Ubuntu server visible at IP 43.205.13.243, port 22, offering the service cpe:/a:openbsd:opens']\n",
      "['<s>There is a Ubuntu server visible at IP 43.205.13.243, port 22, offering the service cpe:/a:openbsd:openssh']\n",
      "['<s>There is a Ubuntu server visible at IP 43.205.13.243, port 22, offering the service cpe:/a:openbsd:openssh:']\n",
      "['<s>There is a Ubuntu server visible at IP 43.205.13.243, port 22, offering the service cpe:/a:openbsd:openssh:8']\n",
      "['<s>There is a Ubuntu server visible at IP 43.205.13.243, port 22, offering the service cpe:/a:openbsd:openssh:8.']\n",
      "['<s>There is a Ubuntu server visible at IP 43.205.13.243, port 22, offering the service cpe:/a:openbsd:openssh:8.2']\n",
      "['<s>There is a Ubuntu server visible at IP 43.205.13.243, port 22, offering the service cpe:/a:openbsd:openssh:8.2p']\n",
      "['<s>There is a Ubuntu server visible at IP 43.205.13.243, port 22, offering the service cpe:/a:openbsd:openssh:8.2p1']\n",
      "['<s>There is a Ubuntu server visible at IP 43.205.13.243, port 22, offering the service cpe:/a:openbsd:openssh:8.2p1 Ubuntu']\n",
      "['<s>There is a Ubuntu server visible at IP 43.205.13.243, port 22, offering the service cpe:/a:openbsd:openssh:8.2p1 Ubuntu-']\n",
      "['<s>There is a Ubuntu server visible at IP 43.205.13.243, port 22, offering the service cpe:/a:openbsd:openssh:8.2p1 Ubuntu-4']\n",
      "['<s>There is a Ubuntu server visible at IP 43.205.13.243, port 22, offering the service cpe:/a:openbsd:openssh:8.2p1 Ubuntu-4ubuntu']\n",
      "['<s>There is a Ubuntu server visible at IP 43.205.13.243, port 22, offering the service cpe:/a:openbsd:openssh:8.2p1 Ubuntu-4ubuntu0']\n",
      "['<s>There is a Ubuntu server visible at IP 43.205.13.243, port 22, offering the service cpe:/a:openbsd:openssh:8.2p1 Ubuntu-4ubuntu0.']\n",
      "['<s>There is a Ubuntu server visible at IP 43.205.13.243, port 22, offering the service cpe:/a:openbsd:openssh:8.2p1 Ubuntu-4ubuntu0.5']\n",
      "['<s>There is a Ubuntu server visible at IP 43.205.13.243, port 22, offering the service cpe:/a:openbsd:openssh:8.2p1 Ubuntu-4ubuntu0.5.']\n",
      "['<s>There is a Ubuntu server visible at IP 43.205.13.243, port 22, offering the service cpe:/a:openbsd:openssh:8.2p1 Ubuntu-4ubuntu0.5.\\n']\n",
      "['<s>There is a Ubuntu server visible at IP 43.205.13.243, port 22, offering the service cpe:/a:openbsd:openssh:8.2p1 Ubuntu-4ubuntu0.5.\\nThere']\n",
      "['<s>There is a Ubuntu server visible at IP 43.205.13.243, port 22, offering the service cpe:/a:openbsd:openssh:8.2p1 Ubuntu-4ubuntu0.5.\\nThere is']\n",
      "['<s>There is a Ubuntu server visible at IP 43.205.13.243, port 22, offering the service cpe:/a:openbsd:openssh:8.2p1 Ubuntu-4ubuntu0.5.\\nThere is a']\n",
      "['<s>There is a Ubuntu server visible at IP 43.205.13.243, port 22, offering the service cpe:/a:openbsd:openssh:8.2p1 Ubuntu-4ubuntu0.5.\\nThere is a Ubuntu']\n",
      "['<s>There is a Ubuntu server visible at IP 43.205.13.243, port 22, offering the service cpe:/a:openbsd:openssh:8.2p1 Ubuntu-4ubuntu0.5.\\nThere is a Ubuntu server']\n",
      "['<s>There is a Ubuntu server visible at IP 43.205.13.243, port 22, offering the service cpe:/a:openbsd:openssh:8.2p1 Ubuntu-4ubuntu0.5.\\nThere is a Ubuntu server visible']\n",
      "['<s>There is a Ubuntu server visible at IP 43.205.13.243, port 22, offering the service cpe:/a:openbsd:openssh:8.2p1 Ubuntu-4ubuntu0.5.\\nThere is a Ubuntu server visible at']\n",
      "['<s>There is a Ubuntu server visible at IP 43.205.13.243, port 22, offering the service cpe:/a:openbsd:openssh:8.2p1 Ubuntu-4ubuntu0.5.\\nThere is a Ubuntu server visible at IP']\n",
      "['<s>There is a Ubuntu server visible at IP 43.205.13.243, port 22, offering the service cpe:/a:openbsd:openssh:8.2p1 Ubuntu-4ubuntu0.5.\\nThere is a Ubuntu server visible at IP ']\n",
      "['<s>There is a Ubuntu server visible at IP 43.205.13.243, port 22, offering the service cpe:/a:openbsd:openssh:8.2p1 Ubuntu-4ubuntu0.5.\\nThere is a Ubuntu server visible at IP 4']\n",
      "['<s>There is a Ubuntu server visible at IP 43.205.13.243, port 22, offering the service cpe:/a:openbsd:openssh:8.2p1 Ubuntu-4ubuntu0.5.\\nThere is a Ubuntu server visible at IP 43']\n",
      "['<s>There is a Ubuntu server visible at IP 43.205.13.243, port 22, offering the service cpe:/a:openbsd:openssh:8.2p1 Ubuntu-4ubuntu0.5.\\nThere is a Ubuntu server visible at IP 43.']\n",
      "['<s>There is a Ubuntu server visible at IP 43.205.13.243, port 22, offering the service cpe:/a:openbsd:openssh:8.2p1 Ubuntu-4ubuntu0.5.\\nThere is a Ubuntu server visible at IP 43.2']\n",
      "['<s>There is a Ubuntu server visible at IP 43.205.13.243, port 22, offering the service cpe:/a:openbsd:openssh:8.2p1 Ubuntu-4ubuntu0.5.\\nThere is a Ubuntu server visible at IP 43.20']\n",
      "['<s>There is a Ubuntu server visible at IP 43.205.13.243, port 22, offering the service cpe:/a:openbsd:openssh:8.2p1 Ubuntu-4ubuntu0.5.\\nThere is a Ubuntu server visible at IP 43.205']\n",
      "['<s>There is a Ubuntu server visible at IP 43.205.13.243, port 22, offering the service cpe:/a:openbsd:openssh:8.2p1 Ubuntu-4ubuntu0.5.\\nThere is a Ubuntu server visible at IP 43.205.']\n",
      "['<s>There is a Ubuntu server visible at IP 43.205.13.243, port 22, offering the service cpe:/a:openbsd:openssh:8.2p1 Ubuntu-4ubuntu0.5.\\nThere is a Ubuntu server visible at IP 43.205.1']\n",
      "['<s>There is a Ubuntu server visible at IP 43.205.13.243, port 22, offering the service cpe:/a:openbsd:openssh:8.2p1 Ubuntu-4ubuntu0.5.\\nThere is a Ubuntu server visible at IP 43.205.13']\n",
      "['<s>There is a Ubuntu server visible at IP 43.205.13.243, port 22, offering the service cpe:/a:openbsd:openssh:8.2p1 Ubuntu-4ubuntu0.5.\\nThere is a Ubuntu server visible at IP 43.205.13.']\n",
      "['<s>There is a Ubuntu server visible at IP 43.205.13.243, port 22, offering the service cpe:/a:openbsd:openssh:8.2p1 Ubuntu-4ubuntu0.5.\\nThere is a Ubuntu server visible at IP 43.205.13.2']\n",
      "['<s>There is a Ubuntu server visible at IP 43.205.13.243, port 22, offering the service cpe:/a:openbsd:openssh:8.2p1 Ubuntu-4ubuntu0.5.\\nThere is a Ubuntu server visible at IP 43.205.13.24']\n",
      "['<s>There is a Ubuntu server visible at IP 43.205.13.243, port 22, offering the service cpe:/a:openbsd:openssh:8.2p1 Ubuntu-4ubuntu0.5.\\nThere is a Ubuntu server visible at IP 43.205.13.243']\n",
      "['<s>There is a Ubuntu server visible at IP 43.205.13.243, port 22, offering the service cpe:/a:openbsd:openssh:8.2p1 Ubuntu-4ubuntu0.5.\\nThere is a Ubuntu server visible at IP 43.205.13.243,']\n",
      "['<s>There is a Ubuntu server visible at IP 43.205.13.243, port 22, offering the service cpe:/a:openbsd:openssh:8.2p1 Ubuntu-4ubuntu0.5.\\nThere is a Ubuntu server visible at IP 43.205.13.243, port']\n",
      "['<s>There is a Ubuntu server visible at IP 43.205.13.243, port 22, offering the service cpe:/a:openbsd:openssh:8.2p1 Ubuntu-4ubuntu0.5.\\nThere is a Ubuntu server visible at IP 43.205.13.243, port ']\n",
      "['<s>There is a Ubuntu server visible at IP 43.205.13.243, port 22, offering the service cpe:/a:openbsd:openssh:8.2p1 Ubuntu-4ubuntu0.5.\\nThere is a Ubuntu server visible at IP 43.205.13.243, port 2']\n",
      "['<s>There is a Ubuntu server visible at IP 43.205.13.243, port 22, offering the service cpe:/a:openbsd:openssh:8.2p1 Ubuntu-4ubuntu0.5.\\nThere is a Ubuntu server visible at IP 43.205.13.243, port 22']\n",
      "['<s>There is a Ubuntu server visible at IP 43.205.13.243, port 22, offering the service cpe:/a:openbsd:openssh:8.2p1 Ubuntu-4ubuntu0.5.\\nThere is a Ubuntu server visible at IP 43.205.13.243, port 22,']\n",
      "['<s>There is a Ubuntu server visible at IP 43.205.13.243, port 22, offering the service cpe:/a:openbsd:openssh:8.2p1 Ubuntu-4ubuntu0.5.\\nThere is a Ubuntu server visible at IP 43.205.13.243, port 22, offering']\n",
      "['<s>There is a Ubuntu server visible at IP 43.205.13.243, port 22, offering the service cpe:/a:openbsd:openssh:8.2p1 Ubuntu-4ubuntu0.5.\\nThere is a Ubuntu server visible at IP 43.205.13.243, port 22, offering the']\n",
      "['<s>There is a Ubuntu server visible at IP 43.205.13.243, port 22, offering the service cpe:/a:openbsd:openssh:8.2p1 Ubuntu-4ubuntu0.5.\\nThere is a Ubuntu server visible at IP 43.205.13.243, port 22, offering the service']\n",
      "['<s>There is a Ubuntu server visible at IP 43.205.13.243, port 22, offering the service cpe:/a:openbsd:openssh:8.2p1 Ubuntu-4ubuntu0.5.\\nThere is a Ubuntu server visible at IP 43.205.13.243, port 22, offering the service c']\n",
      "['<s>There is a Ubuntu server visible at IP 43.205.13.243, port 22, offering the service cpe:/a:openbsd:openssh:8.2p1 Ubuntu-4ubuntu0.5.\\nThere is a Ubuntu server visible at IP 43.205.13.243, port 22, offering the service cpe']\n",
      "['<s>There is a Ubuntu server visible at IP 43.205.13.243, port 22, offering the service cpe:/a:openbsd:openssh:8.2p1 Ubuntu-4ubuntu0.5.\\nThere is a Ubuntu server visible at IP 43.205.13.243, port 22, offering the service cpe:/']\n",
      "['<s>There is a Ubuntu server visible at IP 43.205.13.243, port 22, offering the service cpe:/a:openbsd:openssh:8.2p1 Ubuntu-4ubuntu0.5.\\nThere is a Ubuntu server visible at IP 43.205.13.243, port 22, offering the service cpe:/a']\n",
      "['<s>There is a Ubuntu server visible at IP 43.205.13.243, port 22, offering the service cpe:/a:openbsd:openssh:8.2p1 Ubuntu-4ubuntu0.5.\\nThere is a Ubuntu server visible at IP 43.205.13.243, port 22, offering the service cpe:/a:']\n",
      "['<s>There is a Ubuntu server visible at IP 43.205.13.243, port 22, offering the service cpe:/a:openbsd:openssh:8.2p1 Ubuntu-4ubuntu0.5.\\nThere is a Ubuntu server visible at IP 43.205.13.243, port 22, offering the service cpe:/a:open']\n",
      "['<s>There is a Ubuntu server visible at IP 43.205.13.243, port 22, offering the service cpe:/a:openbsd:openssh:8.2p1 Ubuntu-4ubuntu0.5.\\nThere is a Ubuntu server visible at IP 43.205.13.243, port 22, offering the service cpe:/a:openb']\n",
      "['<s>There is a Ubuntu server visible at IP 43.205.13.243, port 22, offering the service cpe:/a:openbsd:openssh:8.2p1 Ubuntu-4ubuntu0.5.\\nThere is a Ubuntu server visible at IP 43.205.13.243, port 22, offering the service cpe:/a:openbsd']\n",
      "['<s>There is a Ubuntu server visible at IP 43.205.13.243, port 22, offering the service cpe:/a:openbsd:openssh:8.2p1 Ubuntu-4ubuntu0.5.\\nThere is a Ubuntu server visible at IP 43.205.13.243, port 22, offering the service cpe:/a:openbsd:']\n",
      "['<s>There is a Ubuntu server visible at IP 43.205.13.243, port 22, offering the service cpe:/a:openbsd:openssh:8.2p1 Ubuntu-4ubuntu0.5.\\nThere is a Ubuntu server visible at IP 43.205.13.243, port 22, offering the service cpe:/a:openbsd:opens']\n",
      "['<s>There is a Ubuntu server visible at IP 43.205.13.243, port 22, offering the service cpe:/a:openbsd:openssh:8.2p1 Ubuntu-4ubuntu0.5.\\nThere is a Ubuntu server visible at IP 43.205.13.243, port 22, offering the service cpe:/a:openbsd:openssh']\n",
      "['<s>There is a Ubuntu server visible at IP 43.205.13.243, port 22, offering the service cpe:/a:openbsd:openssh:8.2p1 Ubuntu-4ubuntu0.5.\\nThere is a Ubuntu server visible at IP 43.205.13.243, port 22, offering the service cpe:/a:openbsd:openssh:']\n",
      "['<s>There is a Ubuntu server visible at IP 43.205.13.243, port 22, offering the service cpe:/a:openbsd:openssh:8.2p1 Ubuntu-4ubuntu0.5.\\nThere is a Ubuntu server visible at IP 43.205.13.243, port 22, offering the service cpe:/a:openbsd:openssh:8']\n",
      "['<s>There is a Ubuntu server visible at IP 43.205.13.243, port 22, offering the service cpe:/a:openbsd:openssh:8.2p1 Ubuntu-4ubuntu0.5.\\nThere is a Ubuntu server visible at IP 43.205.13.243, port 22, offering the service cpe:/a:openbsd:openssh:8.']\n",
      "['<s>There is a Ubuntu server visible at IP 43.205.13.243, port 22, offering the service cpe:/a:openbsd:openssh:8.2p1 Ubuntu-4ubuntu0.5.\\nThere is a Ubuntu server visible at IP 43.205.13.243, port 22, offering the service cpe:/a:openbsd:openssh:8.2']\n",
      "['<s>There is a Ubuntu server visible at IP 43.205.13.243, port 22, offering the service cpe:/a:openbsd:openssh:8.2p1 Ubuntu-4ubuntu0.5.\\nThere is a Ubuntu server visible at IP 43.205.13.243, port 22, offering the service cpe:/a:openbsd:openssh:8.2p']\n",
      "['<s>There is a Ubuntu server visible at IP 43.205.13.243, port 22, offering the service cpe:/a:openbsd:openssh:8.2p1 Ubuntu-4ubuntu0.5.\\nThere is a Ubuntu server visible at IP 43.205.13.243, port 22, offering the service cpe:/a:openbsd:openssh:8.2p1']\n",
      "['<s>There is a Ubuntu server visible at IP 43.205.13.243, port 22, offering the service cpe:/a:openbsd:openssh:8.2p1 Ubuntu-4ubuntu0.5.\\nThere is a Ubuntu server visible at IP 43.205.13.243, port 22, offering the service cpe:/a:openbsd:openssh:8.2p1 Ubuntu']\n",
      "['<s>There is a Ubuntu server visible at IP 43.205.13.243, port 22, offering the service cpe:/a:openbsd:openssh:8.2p1 Ubuntu-4ubuntu0.5.\\nThere is a Ubuntu server visible at IP 43.205.13.243, port 22, offering the service cpe:/a:openbsd:openssh:8.2p1 Ubuntu-']\n",
      "['<s>There is a Ubuntu server visible at IP 43.205.13.243, port 22, offering the service cpe:/a:openbsd:openssh:8.2p1 Ubuntu-4ubuntu0.5.\\nThere is a Ubuntu server visible at IP 43.205.13.243, port 22, offering the service cpe:/a:openbsd:openssh:8.2p1 Ubuntu-4']\n",
      "['<s>There is a Ubuntu server visible at IP 43.205.13.243, port 22, offering the service cpe:/a:openbsd:openssh:8.2p1 Ubuntu-4ubuntu0.5.\\nThere is a Ubuntu server visible at IP 43.205.13.243, port 22, offering the service cpe:/a:openbsd:openssh:8.2p1 Ubuntu-4ubuntu']\n",
      "['<s>There is a Ubuntu server visible at IP 43.205.13.243, port 22, offering the service cpe:/a:openbsd:openssh:8.2p1 Ubuntu-4ubuntu0.5.\\nThere is a Ubuntu server visible at IP 43.205.13.243, port 22, offering the service cpe:/a:openbsd:openssh:8.2p1 Ubuntu-4ubuntu0']\n",
      "['<s>There is a Ubuntu server visible at IP 43.205.13.243, port 22, offering the service cpe:/a:openbsd:openssh:8.2p1 Ubuntu-4ubuntu0.5.\\nThere is a Ubuntu server visible at IP 43.205.13.243, port 22, offering the service cpe:/a:openbsd:openssh:8.2p1 Ubuntu-4ubuntu0.']\n",
      "['<s>There is a Ubuntu server visible at IP 43.205.13.243, port 22, offering the service cpe:/a:openbsd:openssh:8.2p1 Ubuntu-4ubuntu0.5.\\nThere is a Ubuntu server visible at IP 43.205.13.243, port 22, offering the service cpe:/a:openbsd:openssh:8.2p1 Ubuntu-4ubuntu0.5']\n",
      "['<s>There is a Ubuntu server visible at IP 43.205.13.243, port 22, offering the service cpe:/a:openbsd:openssh:8.2p1 Ubuntu-4ubuntu0.5.\\nThere is a Ubuntu server visible at IP 43.205.13.243, port 22, offering the service cpe:/a:openbsd:openssh:8.2p1 Ubuntu-4ubuntu0.5.']\n"
     ]
    }
   ],
   "source": [
    "for i in range(1,len(outputs[0])):\n",
    "    print(tokenizer.batch_decode(outputs[:, 0:i]))"
   ]
  },
  {
   "cell_type": "code",
   "execution_count": 9,
   "metadata": {},
   "outputs": [
    {
     "data": {
      "text/plain": [
       "tensor([[    1,  1670,   338,   263,  8294,  1923,  7962,   472,  5641, 29871,\n",
       "         29946, 29941, 29889, 29906, 29900, 29945, 29889, 29896, 29941, 29889,\n",
       "         29906, 29946, 29941, 29892,  2011, 29871, 29906, 29906, 29892, 27032,\n",
       "           278,  2669,   274,   412,  8419, 29874, 29901,  3150, 29890,  4928,\n",
       "         29901, 22156,   845, 29901, 29947, 29889, 29906, 29886, 29896,  8294,\n",
       "         29899, 29946,  8767, 29900, 29889, 29945, 29889,    13,  8439,   338,\n",
       "           263,  8294,  1923,  7962,   472,  5641, 29871, 29946, 29941, 29889,\n",
       "         29906, 29900, 29945, 29889, 29896, 29941, 29889, 29906, 29946, 29941,\n",
       "         29892,  2011, 29871, 29906, 29906, 29892, 27032,   278,  2669,   274,\n",
       "           412,  8419, 29874, 29901,  3150, 29890,  4928, 29901, 22156,   845,\n",
       "         29901, 29947, 29889, 29906, 29886, 29896,  8294, 29899, 29946,  8767,\n",
       "         29900, 29889, 29945, 29889,     2]], device='cuda:0')"
      ]
     },
     "execution_count": 9,
     "metadata": {},
     "output_type": "execute_result"
    }
   ],
   "source": [
    "outputs"
   ]
  },
  {
   "cell_type": "code",
   "execution_count": 20,
   "metadata": {},
   "outputs": [
    {
     "data": {
      "text/plain": [
       "(['4', '3', '.'], tensor([29946, 29941, 29889], device='cuda:0'))"
      ]
     },
     "execution_count": 20,
     "metadata": {},
     "output_type": "execute_result"
    }
   ],
   "source": [
    "tokenizer.batch_decode(outputs[0][10:13]), outputs[0][10:13]"
   ]
  },
  {
   "cell_type": "code",
   "execution_count": 21,
   "metadata": {},
   "outputs": [
    {
     "data": {
      "text/plain": [
       "['3', 'в', 'F', 'л', '5', '4']"
      ]
     },
     "execution_count": 21,
     "metadata": {},
     "output_type": "execute_result"
    }
   ],
   "source": [
    "tokenizer.batch_decode([29941, 29942, 29943, 29944, 29945, 29946])"
   ]
  },
  {
   "cell_type": "code",
   "execution_count": null,
   "metadata": {},
   "outputs": [],
   "source": []
  }
 ],
 "metadata": {
  "kernelspec": {
   "display_name": "llama",
   "language": "python",
   "name": "python3"
  },
  "language_info": {
   "codemirror_mode": {
    "name": "ipython",
    "version": 3
   },
   "file_extension": ".py",
   "mimetype": "text/x-python",
   "name": "python",
   "nbconvert_exporter": "python",
   "pygments_lexer": "ipython3",
   "version": "3.11.4"
  },
  "orig_nbformat": 4
 },
 "nbformat": 4,
 "nbformat_minor": 2
}
