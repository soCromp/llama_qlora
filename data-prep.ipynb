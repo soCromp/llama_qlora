{
 "cells": [
  {
   "cell_type": "markdown",
   "metadata": {},
   "source": [
    "# Dataset\n",
    "\n",
    "*New dataset training checks*\n",
    "- num_heads\n",
    "- max_column_len\n",
    "- dataset"
   ]
  },
  {
   "cell_type": "markdown",
   "metadata": {},
   "source": [
    "What is cpe? https://www.acunetix.com/blog/articles/common-platform-enumeration-cpe-explained/"
   ]
  },
  {
   "cell_type": "code",
   "execution_count": 2,
   "metadata": {},
   "outputs": [],
   "source": [
    "import pandas as pd\n",
    "import numpy as np\n",
    "import json\n",
    "import datasets\n",
    "np.random.seed(42)"
   ]
  },
  {
   "cell_type": "markdown",
   "metadata": {},
   "source": [
    "# Shodan"
   ]
  },
  {
   "cell_type": "code",
   "execution_count": null,
   "metadata": {},
   "outputs": [],
   "source": [
    "datapath = '/mnt/data/sonia/datasets/honeygan/data/processed/data.csv'\n",
    "df = pd.read_csv(datapath)\n",
    "print(df.isna().sum())\n",
    "df.head()"
   ]
  },
  {
   "cell_type": "code",
   "execution_count": 2,
   "metadata": {},
   "outputs": [
    {
     "name": "stderr",
     "output_type": "stream",
     "text": [
      "/tmp/ipykernel_254160/3779506359.py:2: SettingWithCopyWarning: \n",
      "A value is trying to be set on a copy of a slice from a DataFrame.\n",
      "Try using .loc[row_indexer,col_indexer] = value instead\n",
      "\n",
      "See the caveats in the documentation: https://pandas.pydata.org/pandas-docs/stable/user_guide/indexing.html#returning-a-view-versus-a-copy\n",
      "  dfs['port_str'] = dfs.apply(lambda x: str(x['port']), axis=1)\n"
     ]
    },
    {
     "data": {
      "text/html": [
       "<div>\n",
       "<style scoped>\n",
       "    .dataframe tbody tr th:only-of-type {\n",
       "        vertical-align: middle;\n",
       "    }\n",
       "\n",
       "    .dataframe tbody tr th {\n",
       "        vertical-align: top;\n",
       "    }\n",
       "\n",
       "    .dataframe thead th {\n",
       "        text-align: right;\n",
       "    }\n",
       "</style>\n",
       "<table border=\"1\" class=\"dataframe\">\n",
       "  <thead>\n",
       "    <tr style=\"text-align: right;\">\n",
       "      <th></th>\n",
       "      <th>os_generic</th>\n",
       "      <th>ip_str</th>\n",
       "      <th>port_str</th>\n",
       "    </tr>\n",
       "  </thead>\n",
       "  <tbody>\n",
       "    <tr>\n",
       "      <th>1</th>\n",
       "      <td>ubuntu</td>\n",
       "      <td>43.205.13.243</td>\n",
       "      <td>22</td>\n",
       "    </tr>\n",
       "    <tr>\n",
       "      <th>2</th>\n",
       "      <td>ubuntu</td>\n",
       "      <td>43.205.13.243</td>\n",
       "      <td>80</td>\n",
       "    </tr>\n",
       "    <tr>\n",
       "      <th>3</th>\n",
       "      <td>ubuntu</td>\n",
       "      <td>43.205.13.243</td>\n",
       "      <td>443</td>\n",
       "    </tr>\n",
       "    <tr>\n",
       "      <th>4</th>\n",
       "      <td>windows</td>\n",
       "      <td>206.233.189.205</td>\n",
       "      <td>80</td>\n",
       "    </tr>\n",
       "    <tr>\n",
       "      <th>6</th>\n",
       "      <td>windows</td>\n",
       "      <td>206.233.189.205</td>\n",
       "      <td>8081</td>\n",
       "    </tr>\n",
       "  </tbody>\n",
       "</table>\n",
       "</div>"
      ],
      "text/plain": [
       "  os_generic           ip_str port_str\n",
       "1     ubuntu    43.205.13.243       22\n",
       "2     ubuntu    43.205.13.243       80\n",
       "3     ubuntu    43.205.13.243      443\n",
       "4    windows  206.233.189.205       80\n",
       "6    windows  206.233.189.205     8081"
      ]
     },
     "execution_count": 2,
     "metadata": {},
     "output_type": "execute_result"
    }
   ],
   "source": [
    "dfs = df[(~df.single_cpe.isna())]\n",
    "dfs['port_str'] = dfs.apply(lambda x: str(x['port']), axis=1)\n",
    "dfs = dfs[['os_generic', 'ip_str', 'port_str',]] #'ip_str'\n",
    "dfs.head()"
   ]
  },
  {
   "cell_type": "code",
   "execution_count": 3,
   "metadata": {},
   "outputs": [
    {
     "data": {
      "text/plain": [
       "array(['22', '80', '443', '8081', '4433', '5000', '5001', '5985', '8080',\n",
       "       '8443', '25', '3306', '23', '1433', '1723', '3389', '8291', '8728',\n",
       "       '21', '53'], dtype=object)"
      ]
     },
     "execution_count": 3,
     "metadata": {},
     "output_type": "execute_result"
    }
   ],
   "source": [
    "dfs['port_str'].unique() #longest is 4 digits"
   ]
  },
  {
   "cell_type": "code",
   "execution_count": 4,
   "metadata": {},
   "outputs": [
    {
     "data": {
      "text/plain": [
       "1      22\n",
       "2      80\n",
       "3     443\n",
       "4      80\n",
       "6    8081\n",
       "Name: port_str, dtype: object"
      ]
     },
     "execution_count": 4,
     "metadata": {},
     "output_type": "execute_result"
    }
   ],
   "source": [
    "# dfs['port_str'] = dfs['port_str'].apply(lambda x: (4-len(x))*'0' + x)\n",
    "dfs['port_str'].head()"
   ]
  },
  {
   "cell_type": "code",
   "execution_count": 5,
   "metadata": {},
   "outputs": [
    {
     "data": {
      "text/plain": [
       "os_generic        10\n",
       "ip_str        130900\n",
       "port_str          20\n",
       "dtype: int64"
      ]
     },
     "execution_count": 5,
     "metadata": {},
     "output_type": "execute_result"
    }
   ],
   "source": [
    "dfs.nunique()"
   ]
  },
  {
   "cell_type": "code",
   "execution_count": 6,
   "metadata": {},
   "outputs": [
    {
     "data": {
      "text/plain": [
       "array(['ubuntu', 'windows', 'windows server', 'debian',\n",
       "       'synology diskstation manager (dsm)', 'sonicwall sonicos', 'qts',\n",
       "       'linux', 'mikrotik routeros', 'synology router manager (srm)'],\n",
       "      dtype=object)"
      ]
     },
     "execution_count": 6,
     "metadata": {},
     "output_type": "execute_result"
    }
   ],
   "source": [
    "dfs['os_generic'].unique()"
   ]
  },
  {
   "cell_type": "code",
   "execution_count": 7,
   "metadata": {},
   "outputs": [
    {
     "data": {
      "text/plain": [
       "{'prompt': ['a', ' at IP', ', port', '']}"
      ]
     },
     "execution_count": 7,
     "metadata": {},
     "output_type": "execute_result"
    }
   ],
   "source": [
    "prompt = datasets.Dataset.from_dict({'prompt': ['a', ' at IP', ', port', '',]})\n",
    "prompt[:]"
   ]
  },
  {
   "cell_type": "code",
   "execution_count": 8,
   "metadata": {},
   "outputs": [
    {
     "data": {
      "text/plain": [
       "{'os_generic': ['ubuntu', 'ubuntu', 'ubuntu', 'windows', 'windows'],\n",
       " 'ip_str': ['43.205.13.243',\n",
       "  '43.205.13.243',\n",
       "  '43.205.13.243',\n",
       "  '206.233.189.205',\n",
       "  '206.233.189.205'],\n",
       " 'port_str': ['22', '80', '443', '80', '8081']}"
      ]
     },
     "execution_count": 8,
     "metadata": {},
     "output_type": "execute_result"
    }
   ],
   "source": [
    "data = datasets.Dataset.from_pandas(dfs)\n",
    "data = data.remove_columns(\"__index_level_0__\")\n",
    "data[:5]"
   ]
  },
  {
   "cell_type": "code",
   "execution_count": 9,
   "metadata": {},
   "outputs": [
    {
     "data": {
      "text/plain": [
       "13"
      ]
     },
     "execution_count": 9,
     "metadata": {},
     "output_type": "execute_result"
    }
   ],
   "source": [
    "prompt_len = sum([len(chunk) for chunk in prompt['prompt']])\n",
    "prompt_len"
   ]
  },
  {
   "cell_type": "code",
   "execution_count": 10,
   "metadata": {},
   "outputs": [
    {
     "data": {
      "application/vnd.jupyter.widget-view+json": {
       "model_id": "41f437e36e30433f9689ccde6c9e0021",
       "version_major": 2,
       "version_minor": 0
      },
      "text/plain": [
       "Map:   0%|          | 0/219434 [00:00<?, ? examples/s]"
      ]
     },
     "metadata": {},
     "output_type": "display_data"
    }
   ],
   "source": [
    "data = data.map(lambda x: {'length': sum([len(col) for col in x.values()]) + prompt_len})"
   ]
  },
  {
   "cell_type": "code",
   "execution_count": 11,
   "metadata": {},
   "outputs": [
    {
     "name": "stdout",
     "output_type": "stream",
     "text": [
      "177741 19749 21944 0.809997539123381 0.08999972656926457 0.10000273430735437\n"
     ]
    },
    {
     "data": {
      "text/plain": [
       "DatasetDict({\n",
       "    train: Dataset({\n",
       "        features: ['os_generic', 'ip_str', 'port_str', 'length'],\n",
       "        num_rows: 177741\n",
       "    })\n",
       "    eval: Dataset({\n",
       "        features: ['os_generic', 'ip_str', 'port_str', 'length'],\n",
       "        num_rows: 19749\n",
       "    })\n",
       "    test: Dataset({\n",
       "        features: ['os_generic', 'ip_str', 'port_str', 'length'],\n",
       "        num_rows: 21944\n",
       "    })\n",
       "    prompt: Dataset({\n",
       "        features: ['prompt'],\n",
       "        num_rows: 4\n",
       "    })\n",
       "})"
      ]
     },
     "execution_count": 11,
     "metadata": {},
     "output_type": "execute_result"
    }
   ],
   "source": [
    "split = data.train_test_split(test_size=0.1)\n",
    "trainval, test = split['train'], split['test']\n",
    "split = trainval.train_test_split(test_size=0.1)\n",
    "train, val = split['train'], split['test']\n",
    "print(len(train), len(val), len(test), len(train)/len(data), len(val)/len(data), len(test)/len(data))\n",
    "ds = datasets.DatasetDict({\n",
    "    'train': train,\n",
    "    'eval': val,\n",
    "    'test': test,\n",
    "    'prompt': prompt})\n",
    "ds"
   ]
  },
  {
   "cell_type": "markdown",
   "metadata": {},
   "source": [
    "## Save"
   ]
  },
  {
   "cell_type": "code",
   "execution_count": 17,
   "metadata": {},
   "outputs": [
    {
     "data": {
      "application/vnd.jupyter.widget-view+json": {
       "model_id": "661a40fbfc064312b92b8c4a24742922",
       "version_major": 2,
       "version_minor": 0
      },
      "text/plain": [
       "Saving the dataset (0/1 shards):   0%|          | 0/177741 [00:00<?, ? examples/s]"
      ]
     },
     "metadata": {},
     "output_type": "display_data"
    },
    {
     "data": {
      "application/vnd.jupyter.widget-view+json": {
       "model_id": "ff2c69cb465a465fadde6c1b41a66cb9",
       "version_major": 2,
       "version_minor": 0
      },
      "text/plain": [
       "Saving the dataset (0/1 shards):   0%|          | 0/19749 [00:00<?, ? examples/s]"
      ]
     },
     "metadata": {},
     "output_type": "display_data"
    },
    {
     "data": {
      "application/vnd.jupyter.widget-view+json": {
       "model_id": "c07cdab83c5e47fba8e34e4cec21177e",
       "version_major": 2,
       "version_minor": 0
      },
      "text/plain": [
       "Saving the dataset (0/1 shards):   0%|          | 0/21944 [00:00<?, ? examples/s]"
      ]
     },
     "metadata": {},
     "output_type": "display_data"
    },
    {
     "data": {
      "application/vnd.jupyter.widget-view+json": {
       "model_id": "8b06e956a2de4de8b7d6320315e1a98b",
       "version_major": 2,
       "version_minor": 0
      },
      "text/plain": [
       "Saving the dataset (0/1 shards):   0%|          | 0/4 [00:00<?, ? examples/s]"
      ]
     },
     "metadata": {},
     "output_type": "display_data"
    }
   ],
   "source": [
    "ds.save_to_disk('/mnt/data/sonia/datasets/honeygan/may6.dat')"
   ]
  },
  {
   "cell_type": "code",
   "execution_count": 14,
   "metadata": {},
   "outputs": [
    {
     "data": {
      "text/plain": [
       "DatasetDict({\n",
       "    eval: Dataset({\n",
       "        features: ['os_generic', 'ip_str', 'port_str', 'length'],\n",
       "        num_rows: 19749\n",
       "    })\n",
       "    prompt: Dataset({\n",
       "        features: ['prompt'],\n",
       "        num_rows: 4\n",
       "    })\n",
       "    train: Dataset({\n",
       "        features: ['os_generic', 'ip_str', 'port_str', 'length'],\n",
       "        num_rows: 177741\n",
       "    })\n",
       "    test: Dataset({\n",
       "        features: ['os_generic', 'ip_str', 'port_str', 'length'],\n",
       "        num_rows: 21944\n",
       "    })\n",
       "})"
      ]
     },
     "execution_count": 14,
     "metadata": {},
     "output_type": "execute_result"
    }
   ],
   "source": [
    "import os\n",
    "p='/mnt/data/sonia/honeygan/may6.dat'\n",
    "\n",
    "if 'dataset_dict.json' in os.listdir(p):\n",
    "    dataset = datasets.DatasetDict({})\n",
    "    for f in os.listdir(p):\n",
    "        if f.endswith('.json'): continue\n",
    "        dataset[f] = datasets.load_from_disk(os.path.join('/mnt/data/sonia/honeygan/may6.dat', f))\n",
    "        \n",
    "dataset"
   ]
  },
  {
   "cell_type": "code",
   "execution_count": 15,
   "metadata": {},
   "outputs": [
    {
     "data": {
      "text/plain": [
       "['a', ' at IP', ', port', '']"
      ]
     },
     "execution_count": 15,
     "metadata": {},
     "output_type": "execute_result"
    }
   ],
   "source": [
    "dataset['prompt']['prompt']"
   ]
  },
  {
   "cell_type": "code",
   "execution_count": 16,
   "metadata": {},
   "outputs": [
    {
     "data": {
      "text/plain": [
       "{0: 'os_generic', 1: 'ip_str', 2: 'port_str', 3: 'length'}"
      ]
     },
     "execution_count": 16,
     "metadata": {},
     "output_type": "execute_result"
    }
   ],
   "source": [
    "feats = list(dataset['train'].features)\n",
    "{k:v for k,v in zip(list(range(len(feats))), feats)}"
   ]
  },
  {
   "cell_type": "code",
   "execution_count": 11,
   "metadata": {},
   "outputs": [],
   "source": [
    "from transformers import AutoTokenizer\n",
    "tok_path = '/mnt/data/zoo/llama2/llama2-7b-hf/'\n",
    "tokenizer = AutoTokenizer.from_pretrained(\n",
    "    tok_path,\n",
    "    cache_dir=None,\n",
    "    padding_side=\"right\",\n",
    "    use_fast=False, # Fast tokenizer giving issues.\n",
    "    tokenizer_type='llama',\n",
    "    trust_remote_code=True,\n",
    ")"
   ]
  },
  {
   "cell_type": "code",
   "execution_count": null,
   "metadata": {},
   "outputs": [],
   "source": []
  },
  {
   "cell_type": "markdown",
   "metadata": {},
   "source": [
    "# Adult"
   ]
  },
  {
   "cell_type": "code",
   "execution_count": 1,
   "metadata": {},
   "outputs": [
    {
     "name": "stdout",
     "output_type": "stream",
     "text": [
      "age               0\n",
      "workclass         0\n",
      "fnlwgt            0\n",
      "education         0\n",
      "education-num     0\n",
      "marital-status    0\n",
      "occupation        0\n",
      "relationship      0\n",
      "race              0\n",
      "sex               0\n",
      "capital-gain      0\n",
      "capital-loss      0\n",
      "hours-per-week    0\n",
      "native-country    0\n",
      "income            0\n",
      "dtype: int64\n"
     ]
    },
    {
     "data": {
      "text/html": [
       "<div>\n",
       "<style scoped>\n",
       "    .dataframe tbody tr th:only-of-type {\n",
       "        vertical-align: middle;\n",
       "    }\n",
       "\n",
       "    .dataframe tbody tr th {\n",
       "        vertical-align: top;\n",
       "    }\n",
       "\n",
       "    .dataframe thead th {\n",
       "        text-align: right;\n",
       "    }\n",
       "</style>\n",
       "<table border=\"1\" class=\"dataframe\">\n",
       "  <thead>\n",
       "    <tr style=\"text-align: right;\">\n",
       "      <th></th>\n",
       "      <th>age</th>\n",
       "      <th>workclass</th>\n",
       "      <th>fnlwgt</th>\n",
       "      <th>education</th>\n",
       "      <th>education-num</th>\n",
       "      <th>marital-status</th>\n",
       "      <th>occupation</th>\n",
       "      <th>relationship</th>\n",
       "      <th>race</th>\n",
       "      <th>sex</th>\n",
       "      <th>capital-gain</th>\n",
       "      <th>capital-loss</th>\n",
       "      <th>hours-per-week</th>\n",
       "      <th>native-country</th>\n",
       "      <th>income</th>\n",
       "    </tr>\n",
       "  </thead>\n",
       "  <tbody>\n",
       "    <tr>\n",
       "      <th>0</th>\n",
       "      <td>39</td>\n",
       "      <td>State-gov</td>\n",
       "      <td>77516</td>\n",
       "      <td>Bachelors</td>\n",
       "      <td>13</td>\n",
       "      <td>Never-married</td>\n",
       "      <td>Adm-clerical</td>\n",
       "      <td>Not-in-family</td>\n",
       "      <td>White</td>\n",
       "      <td>Male</td>\n",
       "      <td>2174</td>\n",
       "      <td>0</td>\n",
       "      <td>40</td>\n",
       "      <td>United-States</td>\n",
       "      <td>&lt;=50K</td>\n",
       "    </tr>\n",
       "    <tr>\n",
       "      <th>1</th>\n",
       "      <td>50</td>\n",
       "      <td>Self-emp-not-inc</td>\n",
       "      <td>83311</td>\n",
       "      <td>Bachelors</td>\n",
       "      <td>13</td>\n",
       "      <td>Married-civ-spouse</td>\n",
       "      <td>Exec-managerial</td>\n",
       "      <td>Husband</td>\n",
       "      <td>White</td>\n",
       "      <td>Male</td>\n",
       "      <td>0</td>\n",
       "      <td>0</td>\n",
       "      <td>13</td>\n",
       "      <td>United-States</td>\n",
       "      <td>&lt;=50K</td>\n",
       "    </tr>\n",
       "    <tr>\n",
       "      <th>2</th>\n",
       "      <td>38</td>\n",
       "      <td>Private</td>\n",
       "      <td>215646</td>\n",
       "      <td>HS-grad</td>\n",
       "      <td>9</td>\n",
       "      <td>Divorced</td>\n",
       "      <td>Handlers-cleaners</td>\n",
       "      <td>Not-in-family</td>\n",
       "      <td>White</td>\n",
       "      <td>Male</td>\n",
       "      <td>0</td>\n",
       "      <td>0</td>\n",
       "      <td>40</td>\n",
       "      <td>United-States</td>\n",
       "      <td>&lt;=50K</td>\n",
       "    </tr>\n",
       "    <tr>\n",
       "      <th>3</th>\n",
       "      <td>53</td>\n",
       "      <td>Private</td>\n",
       "      <td>234721</td>\n",
       "      <td>11th</td>\n",
       "      <td>7</td>\n",
       "      <td>Married-civ-spouse</td>\n",
       "      <td>Handlers-cleaners</td>\n",
       "      <td>Husband</td>\n",
       "      <td>Black</td>\n",
       "      <td>Male</td>\n",
       "      <td>0</td>\n",
       "      <td>0</td>\n",
       "      <td>40</td>\n",
       "      <td>United-States</td>\n",
       "      <td>&lt;=50K</td>\n",
       "    </tr>\n",
       "    <tr>\n",
       "      <th>4</th>\n",
       "      <td>28</td>\n",
       "      <td>Private</td>\n",
       "      <td>338409</td>\n",
       "      <td>Bachelors</td>\n",
       "      <td>13</td>\n",
       "      <td>Married-civ-spouse</td>\n",
       "      <td>Prof-specialty</td>\n",
       "      <td>Wife</td>\n",
       "      <td>Black</td>\n",
       "      <td>Female</td>\n",
       "      <td>0</td>\n",
       "      <td>0</td>\n",
       "      <td>40</td>\n",
       "      <td>Cuba</td>\n",
       "      <td>&lt;=50K</td>\n",
       "    </tr>\n",
       "  </tbody>\n",
       "</table>\n",
       "</div>"
      ],
      "text/plain": [
       "   age          workclass  fnlwgt   education  education-num  \\\n",
       "0   39          State-gov   77516   Bachelors             13   \n",
       "1   50   Self-emp-not-inc   83311   Bachelors             13   \n",
       "2   38            Private  215646     HS-grad              9   \n",
       "3   53            Private  234721        11th              7   \n",
       "4   28            Private  338409   Bachelors             13   \n",
       "\n",
       "        marital-status          occupation    relationship    race      sex  \\\n",
       "0        Never-married        Adm-clerical   Not-in-family   White     Male   \n",
       "1   Married-civ-spouse     Exec-managerial         Husband   White     Male   \n",
       "2             Divorced   Handlers-cleaners   Not-in-family   White     Male   \n",
       "3   Married-civ-spouse   Handlers-cleaners         Husband   Black     Male   \n",
       "4   Married-civ-spouse      Prof-specialty            Wife   Black   Female   \n",
       "\n",
       "   capital-gain  capital-loss  hours-per-week  native-country  income  \n",
       "0          2174             0              40   United-States   <=50K  \n",
       "1             0             0              13   United-States   <=50K  \n",
       "2             0             0              40   United-States   <=50K  \n",
       "3             0             0              40   United-States   <=50K  \n",
       "4             0             0              40            Cuba   <=50K  "
      ]
     },
     "execution_count": 1,
     "metadata": {},
     "output_type": "execute_result"
    }
   ],
   "source": [
    "import pandas as pd\n",
    "import numpy as np\n",
    "import json\n",
    "import datasets\n",
    "np.random.seed(42)\n",
    "\n",
    "datapath = '/mnt/data/sonia/datasets/adult/adult.csv'\n",
    "df = pd.read_csv(datapath)\n",
    "print(df.isna().sum())\n",
    "df.head()"
   ]
  },
  {
   "cell_type": "code",
   "execution_count": 2,
   "metadata": {},
   "outputs": [
    {
     "data": {
      "text/plain": [
       "(age               74\n",
       " sex                2\n",
       " native-country    42\n",
       " education         16\n",
       " occupation        15\n",
       " income             2\n",
       " dtype: int64,\n",
       "   age     sex native-country  education         occupation     income\n",
       " 0  39    Male  United States  Bachelors       Adm clerical  under 50K\n",
       " 1  50    Male  United States  Bachelors    Exec managerial  under 50K\n",
       " 2  38    Male  United States    HS-grad  Handlers cleaners  under 50K\n",
       " 3  53    Male  United States       11th  Handlers cleaners  under 50K\n",
       " 4  28  Female           Cuba  Bachelors     Prof specialty  under 50K)"
      ]
     },
     "execution_count": 2,
     "metadata": {},
     "output_type": "execute_result"
    }
   ],
   "source": [
    "keep_cols = ['age', 'sex', 'native-country', 'education', 'occupation', 'income']\n",
    "df = df[keep_cols]\n",
    "df['native-country'] = df.apply(lambda x: ' '.join(x['native-country'].strip().split('-')), axis=1)\n",
    "df['age'] = df.apply(lambda x: str(x['age']), axis=1)\n",
    "df['sex'] = df.apply(lambda x: x['sex'].strip(), axis=1)\n",
    "df['education'] = df.apply(lambda x: x['education'].strip(), axis=1)\n",
    "df['occupation'] = df.apply(lambda x: ' '.join(x['occupation'].strip().split('-')), axis=1)\n",
    "inc_map = {' <=50K': 'under 50K', ' >50K': 'over 50K'}\n",
    "df['income'] = df.apply(lambda x: inc_map[x['income']], axis=1)\n",
    "df.nunique(), df.head()"
   ]
  },
  {
   "cell_type": "code",
   "execution_count": 27,
   "metadata": {},
   "outputs": [
    {
     "data": {
      "text/plain": [
       "array(['Adm clerical', 'Exec managerial', 'Handlers cleaners',\n",
       "       'Prof specialty', 'Other service', 'Sales', 'Craft repair',\n",
       "       'Transport moving', 'Farming fishing', 'Machine op inspct',\n",
       "       'Tech support', '?', 'Protective serv', 'Armed Forces',\n",
       "       'Priv house serv'], dtype=object)"
      ]
     },
     "execution_count": 27,
     "metadata": {},
     "output_type": "execute_result"
    }
   ],
   "source": [
    "df['occupation'].unique()"
   ]
  },
  {
   "cell_type": "code",
   "execution_count": 3,
   "metadata": {},
   "outputs": [
    {
     "data": {
      "text/plain": [
       "{'prompt': [\"This person's age is\",\n",
       "  ' sex is',\n",
       "  ' and country is',\n",
       "  '. Education level is',\n",
       "  ' occupation is',\n",
       "  ' and income is',\n",
       "  '']}"
      ]
     },
     "execution_count": 3,
     "metadata": {},
     "output_type": "execute_result"
    }
   ],
   "source": [
    "prompt = [\n",
    "    \"This person's age is\",\n",
    "    \" sex is\",\n",
    "    \" and country is\",\n",
    "    '. Education level is',\n",
    "    ' occupation is',\n",
    "    ' and income is',\n",
    "    \"\"\n",
    "]\n",
    "prompt = datasets.Dataset.from_dict({'prompt': prompt})\n",
    "prompt[:]"
   ]
  },
  {
   "cell_type": "code",
   "execution_count": 4,
   "metadata": {},
   "outputs": [
    {
     "data": {
      "application/vnd.jupyter.widget-view+json": {
       "model_id": "d8878ff22440483c9fcc6b2ce83cf5ac",
       "version_major": 2,
       "version_minor": 0
      },
      "text/plain": [
       "Map:   0%|          | 0/48842 [00:00<?, ? examples/s]"
      ]
     },
     "metadata": {},
     "output_type": "display_data"
    },
    {
     "data": {
      "text/plain": [
       "{'age': ['39', '50', '38', '53', '28'],\n",
       " 'sex': ['Male', 'Male', 'Male', 'Male', 'Female'],\n",
       " 'native-country': ['United States',\n",
       "  'United States',\n",
       "  'United States',\n",
       "  'United States',\n",
       "  'Cuba'],\n",
       " 'education': ['Bachelors', 'Bachelors', 'HS-grad', '11th', 'Bachelors'],\n",
       " 'occupation': ['Adm clerical',\n",
       "  'Exec managerial',\n",
       "  'Handlers cleaners',\n",
       "  'Handlers cleaners',\n",
       "  'Prof specialty'],\n",
       " 'income': ['under 50K', 'under 50K', 'under 50K', 'under 50K', 'under 50K'],\n",
       " 'length': [56, 59, 59, 56, 51]}"
      ]
     },
     "execution_count": 4,
     "metadata": {},
     "output_type": "execute_result"
    }
   ],
   "source": [
    "data = datasets.Dataset.from_pandas(df)\n",
    "prompt_len = sum([len(chunk) for chunk in prompt])\n",
    "data = data.map(lambda x: {'length': sum([len(col) for col in x.values()]) + prompt_len})\n",
    "data[:5]"
   ]
  },
  {
   "cell_type": "code",
   "execution_count": 5,
   "metadata": {},
   "outputs": [],
   "source": [
    "from transformers import AutoTokenizer\n",
    "vocab_masks = {}\n",
    "tokenizer = AutoTokenizer.from_pretrained(\"/mnt/data/zoo/llama2/llama2-7b-hf\")\n",
    "for i, column in enumerate(keep_cols):\n",
    "    column=df[column].unique().tolist()\n",
    "    tokenized = [tokenizer(x, add_special_tokens=False)['input_ids'] for x in column]\n",
    "    unique_toks = list(set(sum(tokenized, []))) + [0]\n",
    "\n",
    "    vocab_size = 32000\n",
    "    vec = np.zeros(vocab_size, dtype=int)\n",
    "    vec[unique_toks] = 1\n",
    "    vocab_masks[str(i+1)] = vec\n",
    "vocab_masks = datasets.Dataset.from_dict(vocab_masks)"
   ]
  },
  {
   "cell_type": "code",
   "execution_count": 6,
   "metadata": {},
   "outputs": [
    {
     "name": "stdout",
     "output_type": "stream",
     "text": [
      "39561 4396 4885 0.8099791163343024 0.09000450432005241 0.10001637934564514\n"
     ]
    },
    {
     "data": {
      "text/plain": [
       "DatasetDict({\n",
       "    train: Dataset({\n",
       "        features: ['age', 'sex', 'native-country', 'education', 'occupation', 'income', 'length'],\n",
       "        num_rows: 39561\n",
       "    })\n",
       "    eval: Dataset({\n",
       "        features: ['age', 'sex', 'native-country', 'education', 'occupation', 'income', 'length'],\n",
       "        num_rows: 4396\n",
       "    })\n",
       "    test: Dataset({\n",
       "        features: ['age', 'sex', 'native-country', 'education', 'occupation', 'income', 'length'],\n",
       "        num_rows: 4885\n",
       "    })\n",
       "    prompt: Dataset({\n",
       "        features: ['prompt'],\n",
       "        num_rows: 7\n",
       "    })\n",
       "    vocab_masks: Dataset({\n",
       "        features: ['1', '2', '3', '4', '5', '6'],\n",
       "        num_rows: 32000\n",
       "    })\n",
       "})"
      ]
     },
     "execution_count": 6,
     "metadata": {},
     "output_type": "execute_result"
    }
   ],
   "source": [
    "split = data.train_test_split(test_size=0.1)\n",
    "trainval, test = split['train'], split['test']\n",
    "split = trainval.train_test_split(test_size=0.1)\n",
    "train, val = split['train'], split['test']\n",
    "print(len(train), len(val), len(test), len(train)/len(data), len(val)/len(data), len(test)/len(data))\n",
    "ds = datasets.DatasetDict({\n",
    "    'train': train,\n",
    "    'eval': val,\n",
    "    'test': test,\n",
    "    'prompt': prompt,\n",
    "    'vocab_masks': vocab_masks})\n",
    "ds"
   ]
  },
  {
   "cell_type": "code",
   "execution_count": 25,
   "metadata": {},
   "outputs": [
    {
     "data": {
      "text/plain": [
       "(6, 32000)"
      ]
     },
     "execution_count": 25,
     "metadata": {},
     "output_type": "execute_result"
    }
   ],
   "source": [
    "# pd.DataFrame(ds['vocab_masks'][:])['1'].to_numpy()\n",
    "pd.DataFrame(ds['vocab_masks'][:]).to_numpy().T.shape"
   ]
  },
  {
   "cell_type": "code",
   "execution_count": 7,
   "metadata": {},
   "outputs": [
    {
     "data": {
      "application/vnd.jupyter.widget-view+json": {
       "model_id": "f9d6b1d1c29b42ca8356b7994b798c2b",
       "version_major": 2,
       "version_minor": 0
      },
      "text/plain": [
       "Saving the dataset (0/1 shards):   0%|          | 0/39561 [00:00<?, ? examples/s]"
      ]
     },
     "metadata": {},
     "output_type": "display_data"
    },
    {
     "data": {
      "application/vnd.jupyter.widget-view+json": {
       "model_id": "6e85caf44a4843d6a6ee3d72b0eaefae",
       "version_major": 2,
       "version_minor": 0
      },
      "text/plain": [
       "Saving the dataset (0/1 shards):   0%|          | 0/4396 [00:00<?, ? examples/s]"
      ]
     },
     "metadata": {},
     "output_type": "display_data"
    },
    {
     "data": {
      "application/vnd.jupyter.widget-view+json": {
       "model_id": "1b0fc76496c54d249558fdc400445862",
       "version_major": 2,
       "version_minor": 0
      },
      "text/plain": [
       "Saving the dataset (0/1 shards):   0%|          | 0/4885 [00:00<?, ? examples/s]"
      ]
     },
     "metadata": {},
     "output_type": "display_data"
    },
    {
     "data": {
      "application/vnd.jupyter.widget-view+json": {
       "model_id": "a6f502d1a46044c5a77e9b4d20e3d381",
       "version_major": 2,
       "version_minor": 0
      },
      "text/plain": [
       "Saving the dataset (0/1 shards):   0%|          | 0/7 [00:00<?, ? examples/s]"
      ]
     },
     "metadata": {},
     "output_type": "display_data"
    },
    {
     "data": {
      "application/vnd.jupyter.widget-view+json": {
       "model_id": "80de83ff59e64dfa9ca1f37a1ba9128b",
       "version_major": 2,
       "version_minor": 0
      },
      "text/plain": [
       "Saving the dataset (0/1 shards):   0%|          | 0/32000 [00:00<?, ? examples/s]"
      ]
     },
     "metadata": {},
     "output_type": "display_data"
    }
   ],
   "source": [
    "ds.save_to_disk('/mnt/data/sonia/datasets/adult/may8.dat')"
   ]
  },
  {
   "cell_type": "markdown",
   "metadata": {},
   "source": [
    "# Diabetes"
   ]
  },
  {
   "cell_type": "code",
   "execution_count": 1,
   "metadata": {},
   "outputs": [
    {
     "data": {
      "text/html": [
       "<div>\n",
       "<style scoped>\n",
       "    .dataframe tbody tr th:only-of-type {\n",
       "        vertical-align: middle;\n",
       "    }\n",
       "\n",
       "    .dataframe tbody tr th {\n",
       "        vertical-align: top;\n",
       "    }\n",
       "\n",
       "    .dataframe thead th {\n",
       "        text-align: right;\n",
       "    }\n",
       "</style>\n",
       "<table border=\"1\" class=\"dataframe\">\n",
       "  <thead>\n",
       "    <tr style=\"text-align: right;\">\n",
       "      <th></th>\n",
       "      <th>time_in_hospital</th>\n",
       "      <th>num_lab_procedures</th>\n",
       "      <th>num_procedures</th>\n",
       "      <th>num_medications</th>\n",
       "      <th>number_outpatient</th>\n",
       "      <th>number_emergency</th>\n",
       "      <th>number_inpatient</th>\n",
       "      <th>number_diagnoses</th>\n",
       "      <th>change</th>\n",
       "      <th>diabetesMed</th>\n",
       "      <th>...</th>\n",
       "      <th>glyburide-metformin:Up</th>\n",
       "      <th>A1Cresult:&gt;7</th>\n",
       "      <th>A1Cresult:&gt;8</th>\n",
       "      <th>A1Cresult:None</th>\n",
       "      <th>A1Cresult:Norm</th>\n",
       "      <th>max_glu_serum:&gt;200</th>\n",
       "      <th>max_glu_serum:&gt;300</th>\n",
       "      <th>max_glu_serum:None</th>\n",
       "      <th>max_glu_serum:Norm</th>\n",
       "      <th>readmitted</th>\n",
       "    </tr>\n",
       "  </thead>\n",
       "  <tbody>\n",
       "    <tr>\n",
       "      <th>0</th>\n",
       "      <td>2.0</td>\n",
       "      <td>38.0</td>\n",
       "      <td>3.0</td>\n",
       "      <td>27.0</td>\n",
       "      <td>0.0</td>\n",
       "      <td>1.0</td>\n",
       "      <td>2.0</td>\n",
       "      <td>7.0</td>\n",
       "      <td>1.0</td>\n",
       "      <td>1.0</td>\n",
       "      <td>...</td>\n",
       "      <td>0.0</td>\n",
       "      <td>0.0</td>\n",
       "      <td>0.0</td>\n",
       "      <td>1.0</td>\n",
       "      <td>0.0</td>\n",
       "      <td>0.0</td>\n",
       "      <td>0.0</td>\n",
       "      <td>1.0</td>\n",
       "      <td>0.0</td>\n",
       "      <td>0</td>\n",
       "    </tr>\n",
       "    <tr>\n",
       "      <th>1</th>\n",
       "      <td>4.0</td>\n",
       "      <td>48.0</td>\n",
       "      <td>0.0</td>\n",
       "      <td>11.0</td>\n",
       "      <td>0.0</td>\n",
       "      <td>0.0</td>\n",
       "      <td>0.0</td>\n",
       "      <td>9.0</td>\n",
       "      <td>0.0</td>\n",
       "      <td>0.0</td>\n",
       "      <td>...</td>\n",
       "      <td>0.0</td>\n",
       "      <td>0.0</td>\n",
       "      <td>0.0</td>\n",
       "      <td>0.0</td>\n",
       "      <td>1.0</td>\n",
       "      <td>0.0</td>\n",
       "      <td>0.0</td>\n",
       "      <td>1.0</td>\n",
       "      <td>0.0</td>\n",
       "      <td>0</td>\n",
       "    </tr>\n",
       "    <tr>\n",
       "      <th>2</th>\n",
       "      <td>2.0</td>\n",
       "      <td>28.0</td>\n",
       "      <td>0.0</td>\n",
       "      <td>15.0</td>\n",
       "      <td>0.0</td>\n",
       "      <td>3.0</td>\n",
       "      <td>4.0</td>\n",
       "      <td>9.0</td>\n",
       "      <td>0.0</td>\n",
       "      <td>1.0</td>\n",
       "      <td>...</td>\n",
       "      <td>0.0</td>\n",
       "      <td>0.0</td>\n",
       "      <td>0.0</td>\n",
       "      <td>1.0</td>\n",
       "      <td>0.0</td>\n",
       "      <td>0.0</td>\n",
       "      <td>0.0</td>\n",
       "      <td>1.0</td>\n",
       "      <td>0.0</td>\n",
       "      <td>1</td>\n",
       "    </tr>\n",
       "    <tr>\n",
       "      <th>3</th>\n",
       "      <td>4.0</td>\n",
       "      <td>44.0</td>\n",
       "      <td>0.0</td>\n",
       "      <td>10.0</td>\n",
       "      <td>0.0</td>\n",
       "      <td>0.0</td>\n",
       "      <td>0.0</td>\n",
       "      <td>7.0</td>\n",
       "      <td>0.0</td>\n",
       "      <td>1.0</td>\n",
       "      <td>...</td>\n",
       "      <td>0.0</td>\n",
       "      <td>0.0</td>\n",
       "      <td>0.0</td>\n",
       "      <td>1.0</td>\n",
       "      <td>0.0</td>\n",
       "      <td>0.0</td>\n",
       "      <td>0.0</td>\n",
       "      <td>1.0</td>\n",
       "      <td>0.0</td>\n",
       "      <td>0</td>\n",
       "    </tr>\n",
       "    <tr>\n",
       "      <th>4</th>\n",
       "      <td>3.0</td>\n",
       "      <td>54.0</td>\n",
       "      <td>0.0</td>\n",
       "      <td>8.0</td>\n",
       "      <td>0.0</td>\n",
       "      <td>0.0</td>\n",
       "      <td>0.0</td>\n",
       "      <td>8.0</td>\n",
       "      <td>1.0</td>\n",
       "      <td>1.0</td>\n",
       "      <td>...</td>\n",
       "      <td>0.0</td>\n",
       "      <td>0.0</td>\n",
       "      <td>0.0</td>\n",
       "      <td>1.0</td>\n",
       "      <td>0.0</td>\n",
       "      <td>0.0</td>\n",
       "      <td>0.0</td>\n",
       "      <td>1.0</td>\n",
       "      <td>0.0</td>\n",
       "      <td>0</td>\n",
       "    </tr>\n",
       "  </tbody>\n",
       "</table>\n",
       "<p>5 rows × 151 columns</p>\n",
       "</div>"
      ],
      "text/plain": [
       "   time_in_hospital  num_lab_procedures  num_procedures  num_medications  \\\n",
       "0               2.0                38.0             3.0             27.0   \n",
       "1               4.0                48.0             0.0             11.0   \n",
       "2               2.0                28.0             0.0             15.0   \n",
       "3               4.0                44.0             0.0             10.0   \n",
       "4               3.0                54.0             0.0              8.0   \n",
       "\n",
       "   number_outpatient  number_emergency  number_inpatient  number_diagnoses  \\\n",
       "0                0.0               1.0               2.0               7.0   \n",
       "1                0.0               0.0               0.0               9.0   \n",
       "2                0.0               3.0               4.0               9.0   \n",
       "3                0.0               0.0               0.0               7.0   \n",
       "4                0.0               0.0               0.0               8.0   \n",
       "\n",
       "   change  diabetesMed  ...  glyburide-metformin:Up  A1Cresult:>7  \\\n",
       "0     1.0          1.0  ...                     0.0           0.0   \n",
       "1     0.0          0.0  ...                     0.0           0.0   \n",
       "2     0.0          1.0  ...                     0.0           0.0   \n",
       "3     0.0          1.0  ...                     0.0           0.0   \n",
       "4     1.0          1.0  ...                     0.0           0.0   \n",
       "\n",
       "   A1Cresult:>8  A1Cresult:None  A1Cresult:Norm  max_glu_serum:>200  \\\n",
       "0           0.0             1.0             0.0                 0.0   \n",
       "1           0.0             0.0             1.0                 0.0   \n",
       "2           0.0             1.0             0.0                 0.0   \n",
       "3           0.0             1.0             0.0                 0.0   \n",
       "4           0.0             1.0             0.0                 0.0   \n",
       "\n",
       "   max_glu_serum:>300  max_glu_serum:None  max_glu_serum:Norm  readmitted  \n",
       "0                 0.0                 1.0                 0.0           0  \n",
       "1                 0.0                 1.0                 0.0           0  \n",
       "2                 0.0                 1.0                 0.0           1  \n",
       "3                 0.0                 1.0                 0.0           0  \n",
       "4                 0.0                 1.0                 0.0           0  \n",
       "\n",
       "[5 rows x 151 columns]"
      ]
     },
     "execution_count": 1,
     "metadata": {},
     "output_type": "execute_result"
    }
   ],
   "source": [
    "import pandas as pd\n",
    "import numpy as np\n",
    "import json\n",
    "import datasets\n",
    "np.random.seed(42)\n",
    "datasethf = datasets.load_dataset(\"imodels/diabetes-readmission\")\n",
    "df_train = datasethf['train'].to_pandas()\n",
    "df_test   = datasethf['test'].to_pandas()\n",
    "df_train.head()"
   ]
  },
  {
   "cell_type": "code",
   "execution_count": 2,
   "metadata": {},
   "outputs": [
    {
     "data": {
      "text/plain": [
       "{'A1Cresult',\n",
       " 'acarbose',\n",
       " 'admission_source_id',\n",
       " 'admission_type_id',\n",
       " 'age',\n",
       " 'chlorpropamide',\n",
       " 'diag_1',\n",
       " 'diag_2',\n",
       " 'diag_3',\n",
       " 'discharge_disposition_id',\n",
       " 'gender',\n",
       " 'glimepiride',\n",
       " 'glipizide',\n",
       " 'glyburide',\n",
       " 'glyburide-metformin',\n",
       " 'insulin',\n",
       " 'max_glu_serum',\n",
       " 'medical_specialty',\n",
       " 'metformin',\n",
       " 'miglitol',\n",
       " 'nateglinide',\n",
       " 'pioglitazone',\n",
       " 'race',\n",
       " 'repaglinide',\n",
       " 'rosiglitazone',\n",
       " 'tolazamide'}"
      ]
     },
     "execution_count": 2,
     "metadata": {},
     "output_type": "execute_result"
    }
   ],
   "source": [
    "cols = df_train.columns\n",
    "one_hot = set([c.split(':')[0] for c in cols if ':' in c])\n",
    "one_hot"
   ]
  },
  {
   "cell_type": "code",
   "execution_count": 3,
   "metadata": {},
   "outputs": [
    {
     "name": "stdout",
     "output_type": "stream",
     "text": [
      "A1Cresult\n",
      "acarbose\n",
      "admission_source_id\n",
      "admission_type_id\n",
      "age\n",
      "chlorpropamide\n",
      "diag_1\n",
      "diag_2\n",
      "diag_3\n",
      "discharge_disposition_id\n",
      "gender\n",
      "glimepiride\n",
      "glipizide\n",
      "glyburide\n",
      "glyburide-metformin\n",
      "insulin\n",
      "max_glu_serum\n",
      "medical_specialty\n",
      "metformin\n",
      "miglitol\n",
      "nateglinide\n",
      "pioglitazone\n",
      "race\n",
      "repaglinide\n",
      "rosiglitazone\n",
      "tolazamide\n"
     ]
    },
    {
     "data": {
      "text/html": [
       "<div>\n",
       "<style scoped>\n",
       "    .dataframe tbody tr th:only-of-type {\n",
       "        vertical-align: middle;\n",
       "    }\n",
       "\n",
       "    .dataframe tbody tr th {\n",
       "        vertical-align: top;\n",
       "    }\n",
       "\n",
       "    .dataframe thead th {\n",
       "        text-align: right;\n",
       "    }\n",
       "</style>\n",
       "<table border=\"1\" class=\"dataframe\">\n",
       "  <thead>\n",
       "    <tr style=\"text-align: right;\">\n",
       "      <th></th>\n",
       "      <th>time_in_hospital</th>\n",
       "      <th>num_lab_procedures</th>\n",
       "      <th>num_procedures</th>\n",
       "      <th>num_medications</th>\n",
       "      <th>number_outpatient</th>\n",
       "      <th>number_emergency</th>\n",
       "      <th>number_inpatient</th>\n",
       "      <th>number_diagnoses</th>\n",
       "      <th>change</th>\n",
       "      <th>diabetesMed</th>\n",
       "      <th>...</th>\n",
       "      <th>max_glu_serum</th>\n",
       "      <th>medical_specialty</th>\n",
       "      <th>metformin</th>\n",
       "      <th>miglitol</th>\n",
       "      <th>nateglinide</th>\n",
       "      <th>pioglitazone</th>\n",
       "      <th>race</th>\n",
       "      <th>repaglinide</th>\n",
       "      <th>rosiglitazone</th>\n",
       "      <th>tolazamide</th>\n",
       "    </tr>\n",
       "  </thead>\n",
       "  <tbody>\n",
       "    <tr>\n",
       "      <th>0</th>\n",
       "      <td>2.0</td>\n",
       "      <td>38.0</td>\n",
       "      <td>3.0</td>\n",
       "      <td>27.0</td>\n",
       "      <td>0.0</td>\n",
       "      <td>1.0</td>\n",
       "      <td>2.0</td>\n",
       "      <td>7.0</td>\n",
       "      <td>1.0</td>\n",
       "      <td>1.0</td>\n",
       "      <td>...</td>\n",
       "      <td>None</td>\n",
       "      <td>Orthopedics</td>\n",
       "      <td>No</td>\n",
       "      <td>No</td>\n",
       "      <td>No</td>\n",
       "      <td>Steady</td>\n",
       "      <td>Caucasian</td>\n",
       "      <td>No</td>\n",
       "      <td>No</td>\n",
       "      <td>No</td>\n",
       "    </tr>\n",
       "    <tr>\n",
       "      <th>1</th>\n",
       "      <td>4.0</td>\n",
       "      <td>48.0</td>\n",
       "      <td>0.0</td>\n",
       "      <td>11.0</td>\n",
       "      <td>0.0</td>\n",
       "      <td>0.0</td>\n",
       "      <td>0.0</td>\n",
       "      <td>9.0</td>\n",
       "      <td>0.0</td>\n",
       "      <td>0.0</td>\n",
       "      <td>...</td>\n",
       "      <td>None</td>\n",
       "      <td>InternalMedicine</td>\n",
       "      <td>No</td>\n",
       "      <td>No</td>\n",
       "      <td>No</td>\n",
       "      <td>No</td>\n",
       "      <td>Caucasian</td>\n",
       "      <td>No</td>\n",
       "      <td>No</td>\n",
       "      <td>No</td>\n",
       "    </tr>\n",
       "    <tr>\n",
       "      <th>2</th>\n",
       "      <td>2.0</td>\n",
       "      <td>28.0</td>\n",
       "      <td>0.0</td>\n",
       "      <td>15.0</td>\n",
       "      <td>0.0</td>\n",
       "      <td>3.0</td>\n",
       "      <td>4.0</td>\n",
       "      <td>9.0</td>\n",
       "      <td>0.0</td>\n",
       "      <td>1.0</td>\n",
       "      <td>...</td>\n",
       "      <td>None</td>\n",
       "      <td>unknown</td>\n",
       "      <td>No</td>\n",
       "      <td>No</td>\n",
       "      <td>No</td>\n",
       "      <td>No</td>\n",
       "      <td>AfricanAmerican</td>\n",
       "      <td>No</td>\n",
       "      <td>No</td>\n",
       "      <td>No</td>\n",
       "    </tr>\n",
       "    <tr>\n",
       "      <th>3</th>\n",
       "      <td>4.0</td>\n",
       "      <td>44.0</td>\n",
       "      <td>0.0</td>\n",
       "      <td>10.0</td>\n",
       "      <td>0.0</td>\n",
       "      <td>0.0</td>\n",
       "      <td>0.0</td>\n",
       "      <td>7.0</td>\n",
       "      <td>0.0</td>\n",
       "      <td>1.0</td>\n",
       "      <td>...</td>\n",
       "      <td>None</td>\n",
       "      <td>unknown</td>\n",
       "      <td>No</td>\n",
       "      <td>No</td>\n",
       "      <td>No</td>\n",
       "      <td>No</td>\n",
       "      <td>Caucasian</td>\n",
       "      <td>No</td>\n",
       "      <td>No</td>\n",
       "      <td>No</td>\n",
       "    </tr>\n",
       "    <tr>\n",
       "      <th>4</th>\n",
       "      <td>3.0</td>\n",
       "      <td>54.0</td>\n",
       "      <td>0.0</td>\n",
       "      <td>8.0</td>\n",
       "      <td>0.0</td>\n",
       "      <td>0.0</td>\n",
       "      <td>0.0</td>\n",
       "      <td>8.0</td>\n",
       "      <td>1.0</td>\n",
       "      <td>1.0</td>\n",
       "      <td>...</td>\n",
       "      <td>None</td>\n",
       "      <td>unknown</td>\n",
       "      <td>No</td>\n",
       "      <td>No</td>\n",
       "      <td>No</td>\n",
       "      <td>No</td>\n",
       "      <td>Caucasian</td>\n",
       "      <td>No</td>\n",
       "      <td>No</td>\n",
       "      <td>No</td>\n",
       "    </tr>\n",
       "  </tbody>\n",
       "</table>\n",
       "<p>5 rows × 37 columns</p>\n",
       "</div>"
      ],
      "text/plain": [
       "   time_in_hospital  num_lab_procedures  num_procedures  num_medications  \\\n",
       "0               2.0                38.0             3.0             27.0   \n",
       "1               4.0                48.0             0.0             11.0   \n",
       "2               2.0                28.0             0.0             15.0   \n",
       "3               4.0                44.0             0.0             10.0   \n",
       "4               3.0                54.0             0.0              8.0   \n",
       "\n",
       "   number_outpatient  number_emergency  number_inpatient  number_diagnoses  \\\n",
       "0                0.0               1.0               2.0               7.0   \n",
       "1                0.0               0.0               0.0               9.0   \n",
       "2                0.0               3.0               4.0               9.0   \n",
       "3                0.0               0.0               0.0               7.0   \n",
       "4                0.0               0.0               0.0               8.0   \n",
       "\n",
       "   change  diabetesMed  ...  max_glu_serum medical_specialty metformin  \\\n",
       "0     1.0          1.0  ...           None       Orthopedics        No   \n",
       "1     0.0          0.0  ...           None  InternalMedicine        No   \n",
       "2     0.0          1.0  ...           None           unknown        No   \n",
       "3     0.0          1.0  ...           None           unknown        No   \n",
       "4     1.0          1.0  ...           None           unknown        No   \n",
       "\n",
       "  miglitol nateglinide pioglitazone             race repaglinide  \\\n",
       "0       No          No       Steady        Caucasian          No   \n",
       "1       No          No           No        Caucasian          No   \n",
       "2       No          No           No  AfricanAmerican          No   \n",
       "3       No          No           No        Caucasian          No   \n",
       "4       No          No           No        Caucasian          No   \n",
       "\n",
       "  rosiglitazone tolazamide  \n",
       "0            No         No  \n",
       "1            No         No  \n",
       "2            No         No  \n",
       "3            No         No  \n",
       "4            No         No  \n",
       "\n",
       "[5 rows x 37 columns]"
      ]
     },
     "execution_count": 3,
     "metadata": {},
     "output_type": "execute_result"
    }
   ],
   "source": [
    "drop_cols = []\n",
    "for name in sorted(one_hot):\n",
    "    print(name)\n",
    "    df_train[name] = pd.from_dummies(df_train[[c for c in df_train.columns if name+':' in c]], sep=\":\", default_category=\"unknown\")[name]\n",
    "    df_test[name]  = pd.from_dummies( df_test[[c for c in df_train.columns if name+':' in c]], sep=\":\", default_category=\"unknown\")[name]\n",
    "    drop_cols.extend([c for c in df_train.columns if name+':' in c])\n",
    "    drop_cols.extend([c for c in  df_test.columns if name+':' in c])\n",
    "\n",
    "df_train.drop(drop_cols, axis=1, inplace=True)\n",
    "df_test.drop( drop_cols, axis=1, inplace=True)\n",
    "df_train.head()"
   ]
  },
  {
   "cell_type": "code",
   "execution_count": 4,
   "metadata": {},
   "outputs": [],
   "source": [
    "keep_cols = ['readmitted', 'time_in_hospital', 'diag_1', 'num_procedures', 'num_medications', \n",
    "             'number_outpatient', 'number_emergency', 'age', 'medical_specialty']\n",
    "df_train = df_train[keep_cols]\n",
    "df_test = df_test[keep_cols]"
   ]
  },
  {
   "cell_type": "code",
   "execution_count": 5,
   "metadata": {},
   "outputs": [
    {
     "data": {
      "text/html": [
       "<div>\n",
       "<style scoped>\n",
       "    .dataframe tbody tr th:only-of-type {\n",
       "        vertical-align: middle;\n",
       "    }\n",
       "\n",
       "    .dataframe tbody tr th {\n",
       "        vertical-align: top;\n",
       "    }\n",
       "\n",
       "    .dataframe thead th {\n",
       "        text-align: right;\n",
       "    }\n",
       "</style>\n",
       "<table border=\"1\" class=\"dataframe\">\n",
       "  <thead>\n",
       "    <tr style=\"text-align: right;\">\n",
       "      <th></th>\n",
       "      <th>readmitted</th>\n",
       "      <th>time_in_hospital</th>\n",
       "      <th>diag_1</th>\n",
       "      <th>num_procedures</th>\n",
       "      <th>num_medications</th>\n",
       "      <th>number_outpatient</th>\n",
       "      <th>number_emergency</th>\n",
       "      <th>age</th>\n",
       "      <th>medical_specialty</th>\n",
       "    </tr>\n",
       "  </thead>\n",
       "  <tbody>\n",
       "    <tr>\n",
       "      <th>0</th>\n",
       "      <td>not readmitted</td>\n",
       "      <td>2</td>\n",
       "      <td>Injury</td>\n",
       "      <td>3</td>\n",
       "      <td>27</td>\n",
       "      <td>0</td>\n",
       "      <td>1</td>\n",
       "      <td>70+</td>\n",
       "      <td>Orthopedics</td>\n",
       "    </tr>\n",
       "    <tr>\n",
       "      <th>1</th>\n",
       "      <td>not readmitted</td>\n",
       "      <td>4</td>\n",
       "      <td>endocrine</td>\n",
       "      <td>0</td>\n",
       "      <td>11</td>\n",
       "      <td>0</td>\n",
       "      <td>0</td>\n",
       "      <td>70+</td>\n",
       "      <td>internal medicine doctor</td>\n",
       "    </tr>\n",
       "    <tr>\n",
       "      <th>2</th>\n",
       "      <td>readmitted</td>\n",
       "      <td>2</td>\n",
       "      <td>Diabetes</td>\n",
       "      <td>0</td>\n",
       "      <td>15</td>\n",
       "      <td>0</td>\n",
       "      <td>3</td>\n",
       "      <td>20 to 50</td>\n",
       "      <td>unknown</td>\n",
       "    </tr>\n",
       "    <tr>\n",
       "      <th>3</th>\n",
       "      <td>not readmitted</td>\n",
       "      <td>4</td>\n",
       "      <td>Genitourinary</td>\n",
       "      <td>0</td>\n",
       "      <td>10</td>\n",
       "      <td>0</td>\n",
       "      <td>0</td>\n",
       "      <td>70+</td>\n",
       "      <td>unknown</td>\n",
       "    </tr>\n",
       "    <tr>\n",
       "      <th>4</th>\n",
       "      <td>not readmitted</td>\n",
       "      <td>3</td>\n",
       "      <td>Other</td>\n",
       "      <td>0</td>\n",
       "      <td>8</td>\n",
       "      <td>0</td>\n",
       "      <td>0</td>\n",
       "      <td>70+</td>\n",
       "      <td>unknown</td>\n",
       "    </tr>\n",
       "  </tbody>\n",
       "</table>\n",
       "</div>"
      ],
      "text/plain": [
       "       readmitted time_in_hospital         diag_1 num_procedures  \\\n",
       "0  not readmitted                2         Injury              3   \n",
       "1  not readmitted                4      endocrine              0   \n",
       "2      readmitted                2       Diabetes              0   \n",
       "3  not readmitted                4  Genitourinary              0   \n",
       "4  not readmitted                3          Other              0   \n",
       "\n",
       "  num_medications number_outpatient number_emergency       age  \\\n",
       "0              27                 0                1       70+   \n",
       "1              11                 0                0       70+   \n",
       "2              15                 0                3  20 to 50   \n",
       "3              10                 0                0       70+   \n",
       "4               8                 0                0       70+   \n",
       "\n",
       "          medical_specialty  \n",
       "0               Orthopedics  \n",
       "1  internal medicine doctor  \n",
       "2                   unknown  \n",
       "3                   unknown  \n",
       "4                   unknown  "
      ]
     },
     "execution_count": 5,
     "metadata": {},
     "output_type": "execute_result"
    }
   ],
   "source": [
    "readmitted = {0: 'not readmitted', 1:'readmitted'}\n",
    "medical_specialty = {'InternalMedicine':'internal medicine doctor', 'Family/GeneralPractice': 'family doctor', 'Emergency/Trauma':'emergency doctor',\n",
    "                     'Surgery-General':'surgeon', 'ObstetricsandGynecology':'ob-gyn', 'Surgery-Cardiovascular/Thoracic':'cardiovascular surgeon'}\n",
    "diag_1 = {'Non-diabetes endocrine/metabolic': 'endocrine'}\n",
    "age = {'[20-50)':'20 to 50', '[50-70)':'50 to 70', '[10-20)':'10 to 20', '[0-10)':'0 to 10'}\n",
    "\n",
    "df_train['readmitted'] = df_train.apply(lambda x: readmitted[x['readmitted']], axis=1)\n",
    "df_train['medical_specialty'] = df_train.apply(lambda x: medical_specialty[x['medical_specialty']] \n",
    "                                               if x['medical_specialty'] in medical_specialty else x['medical_specialty'], axis=1)\n",
    "df_train['diag_1'] = df_train.apply(lambda x: diag_1[x['diag_1']] \n",
    "                                               if x['diag_1'] in diag_1 else x['diag_1'], axis=1)\n",
    "df_train['age'] = df_train.apply(lambda x: age[x['age']] \n",
    "                                               if x['age'] in age else x['age'], axis=1)\n",
    "df_train['time_in_hospital'] = df_train.apply(lambda x: str(int(x['time_in_hospital'])), axis=1)\n",
    "df_train['num_procedures'] = df_train.apply(lambda x: str(int(x['num_procedures'])), axis=1)\n",
    "df_train['num_medications'] = df_train.apply(lambda x: str(int(x['num_medications'])), axis=1)\n",
    "df_train['number_outpatient'] = df_train.apply(lambda x: str(int(x['number_outpatient'])), axis=1)\n",
    "df_train['number_emergency'] = df_train.apply(lambda x: str(int(x['number_emergency'])), axis=1)\n",
    "# df_train['number_diagnoses'] = df_train.apply(lambda x: str(int(x['number_diagnoses'])), axis=1)\n",
    "\n",
    "df_test['readmitted'] = df_test.apply(lambda x: readmitted[x['readmitted']], axis=1)\n",
    "df_test['medical_specialty'] = df_test.apply(lambda x: medical_specialty[x['medical_specialty']] \n",
    "                                               if x['medical_specialty'] in medical_specialty else x['medical_specialty'], axis=1)\n",
    "df_test['diag_1'] = df_test.apply(lambda x: diag_1[x['diag_1']] \n",
    "                                               if x['diag_1'] in diag_1 else x['diag_1'], axis=1)\n",
    "df_test['age'] = df_test.apply(lambda x: age[x['age']] \n",
    "                                               if x['age'] in age else x['age'], axis=1)\n",
    "df_test['time_in_hospital'] = df_test.apply(lambda x: str(int(x['time_in_hospital'])), axis=1)\n",
    "df_test['num_procedures'] = df_test.apply(lambda x: str(int(x['num_procedures'])), axis=1)\n",
    "df_test['num_medications'] = df_test.apply(lambda x: str(int(x['num_medications'])), axis=1)\n",
    "df_test['number_outpatient'] = df_test.apply(lambda x: str(int(x['number_outpatient'])), axis=1)\n",
    "df_test['number_emergency'] = df_test.apply(lambda x: str(int(x['number_emergency'])), axis=1)\n",
    "# df_test['number_diagnoses'] = df_test.apply(lambda x: str(int(x['number_diagnoses'])), axis=1)\n",
    "df_train.head()"
   ]
  },
  {
   "cell_type": "code",
   "execution_count": 6,
   "metadata": {},
   "outputs": [
    {
     "data": {
      "text/plain": [
       "{'prompt': ['The patient aged',\n",
       "  ' received a',\n",
       "  ' diagnosis after ',\n",
       "  ' days in hospital with a',\n",
       "  ' where they underwent',\n",
       "  ' procedures and were prescribed',\n",
       "  ' medications. In the past year they had',\n",
       "  ' emergency room visits',\n",
       "  ' outpatient appointments and were ultimately',\n",
       "  '']}"
      ]
     },
     "execution_count": 6,
     "metadata": {},
     "output_type": "execute_result"
    }
   ],
   "source": [
    "keep_cols = ['age', 'diag_1', 'time_in_hospital', 'medical_specialty', 'num_procedures', 'num_medications', 'number_emergency', 'number_outpatient', 'readmitted']\n",
    "df_train=df_train[keep_cols]\n",
    "df_test =df_test[keep_cols]\n",
    "prompt = [\n",
    "    'The patient aged', #age\n",
    "    ' received a', #diag_1\n",
    "    ' diagnosis after ', #time_in_hospital\n",
    "    ' days in hospital with a', #medical_specialty\n",
    "    ' where they underwent', #num_procedures\n",
    "    ' procedures and were prescribed', #num_medications\n",
    "    ' medications. In the past year they had', #number_emergency\n",
    "    ' emergency room visits', #number_outpatient\n",
    "    ' outpatient appointments and were ultimately', #readmitted\n",
    "    ''\n",
    "]\n",
    "prompt = datasets.Dataset.from_dict({'prompt': prompt})\n",
    "prompt[:]"
   ]
  },
  {
   "cell_type": "code",
   "execution_count": 7,
   "metadata": {},
   "outputs": [
    {
     "data": {
      "application/vnd.jupyter.widget-view+json": {
       "model_id": "c49955a1a576426484d4697fd15826a8",
       "version_major": 2,
       "version_minor": 0
      },
      "text/plain": [
       "Map:   0%|          | 0/81410 [00:00<?, ? examples/s]"
      ]
     },
     "metadata": {},
     "output_type": "display_data"
    },
    {
     "data": {
      "application/vnd.jupyter.widget-view+json": {
       "model_id": "25d979ea5afa4cf0b1543bec210711b4",
       "version_major": 2,
       "version_minor": 0
      },
      "text/plain": [
       "Map:   0%|          | 0/20353 [00:00<?, ? examples/s]"
      ]
     },
     "metadata": {},
     "output_type": "display_data"
    },
    {
     "data": {
      "text/plain": [
       "{'age': ['70+', '70+', '20 to 50', '70+', '70+'],\n",
       " 'diag_1': ['Injury', 'endocrine', 'Diabetes', 'Genitourinary', 'Other'],\n",
       " 'time_in_hospital': ['2', '4', '2', '4', '3'],\n",
       " 'medical_specialty': ['Orthopedics',\n",
       "  'internal medicine doctor',\n",
       "  'unknown',\n",
       "  'unknown',\n",
       "  'unknown'],\n",
       " 'num_procedures': ['3', '0', '0', '0', '0'],\n",
       " 'num_medications': ['27', '11', '15', '10', '8'],\n",
       " 'number_emergency': ['1', '0', '3', '0', '0'],\n",
       " 'number_outpatient': ['0', '0', '0', '0', '0'],\n",
       " 'readmitted': ['not readmitted',\n",
       "  'not readmitted',\n",
       "  'readmitted',\n",
       "  'not readmitted',\n",
       "  'not readmitted'],\n",
       " 'length': [50, 66, 49, 53, 44]}"
      ]
     },
     "execution_count": 7,
     "metadata": {},
     "output_type": "execute_result"
    }
   ],
   "source": [
    "prompt_len = sum([len(chunk) for chunk in prompt])\n",
    "train = datasets.Dataset.from_pandas(df_train)\n",
    "train = train.map(lambda x: {'length': sum([len(col) for col in x.values()]) + prompt_len})\n",
    "test = datasets.Dataset.from_pandas(df_test)\n",
    "test = test.map(lambda x: {'length': sum([len(col) for col in x.values()]) + prompt_len})\n",
    "train[:5]"
   ]
  },
  {
   "cell_type": "code",
   "execution_count": 8,
   "metadata": {},
   "outputs": [],
   "source": [
    "from transformers import AutoTokenizer\n",
    "vocab_masks = {}\n",
    "for i, column in enumerate(keep_cols):\n",
    "    tokenizer = AutoTokenizer.from_pretrained(\"/mnt/data/zoo/llama2/llama2-7b-hf\")\n",
    "    column=df_train[column].unique().tolist()\n",
    "    tokenized = [tokenizer(x, add_special_tokens=False)['input_ids'] for x in column]\n",
    "    unique_toks = list(set(sum(tokenized, []))) + [0] # so the head can add padding too\n",
    "\n",
    "    vocab_size = 32000\n",
    "    vec = np.zeros(vocab_size, dtype=int)\n",
    "    vec[unique_toks] = 1\n",
    "    vocab_masks[str(i+1)] = vec\n",
    "vocab_masks = datasets.Dataset.from_dict(vocab_masks)"
   ]
  },
  {
   "cell_type": "code",
   "execution_count": 9,
   "metadata": {},
   "outputs": [
    {
     "name": "stdout",
     "output_type": "stream",
     "text": [
      "73269 8141 20353\n"
     ]
    },
    {
     "data": {
      "text/plain": [
       "DatasetDict({\n",
       "    train: Dataset({\n",
       "        features: ['age', 'diag_1', 'time_in_hospital', 'medical_specialty', 'num_procedures', 'num_medications', 'number_emergency', 'number_outpatient', 'readmitted', 'length'],\n",
       "        num_rows: 73269\n",
       "    })\n",
       "    eval: Dataset({\n",
       "        features: ['age', 'diag_1', 'time_in_hospital', 'medical_specialty', 'num_procedures', 'num_medications', 'number_emergency', 'number_outpatient', 'readmitted', 'length'],\n",
       "        num_rows: 8141\n",
       "    })\n",
       "    test: Dataset({\n",
       "        features: ['age', 'diag_1', 'time_in_hospital', 'medical_specialty', 'num_procedures', 'num_medications', 'number_emergency', 'number_outpatient', 'readmitted', 'length'],\n",
       "        num_rows: 20353\n",
       "    })\n",
       "    prompt: Dataset({\n",
       "        features: ['prompt'],\n",
       "        num_rows: 10\n",
       "    })\n",
       "    vocab_masks: Dataset({\n",
       "        features: ['1', '2', '3', '4', '5', '6', '7', '8', '9'],\n",
       "        num_rows: 32000\n",
       "    })\n",
       "})"
      ]
     },
     "execution_count": 9,
     "metadata": {},
     "output_type": "execute_result"
    }
   ],
   "source": [
    "split = train.train_test_split(test_size=0.1)\n",
    "train, val = split['train'], split['test']\n",
    "print(len(train), len(val), len(test))\n",
    "ds = datasets.DatasetDict({\n",
    "    'train': train,\n",
    "    'eval': val,\n",
    "    'test': test,\n",
    "    'prompt': prompt,\n",
    "    'vocab_masks': vocab_masks})\n",
    "ds"
   ]
  },
  {
   "cell_type": "code",
   "execution_count": 10,
   "metadata": {},
   "outputs": [
    {
     "data": {
      "application/vnd.jupyter.widget-view+json": {
       "model_id": "3a3040ae60794051bc0ecc506121563d",
       "version_major": 2,
       "version_minor": 0
      },
      "text/plain": [
       "Saving the dataset (0/1 shards):   0%|          | 0/73269 [00:00<?, ? examples/s]"
      ]
     },
     "metadata": {},
     "output_type": "display_data"
    },
    {
     "data": {
      "application/vnd.jupyter.widget-view+json": {
       "model_id": "f93f5497152e45a081ffe1b5ef10bcf6",
       "version_major": 2,
       "version_minor": 0
      },
      "text/plain": [
       "Saving the dataset (0/1 shards):   0%|          | 0/8141 [00:00<?, ? examples/s]"
      ]
     },
     "metadata": {},
     "output_type": "display_data"
    },
    {
     "data": {
      "application/vnd.jupyter.widget-view+json": {
       "model_id": "800ec1dc901248e5a6b1442eaeac2497",
       "version_major": 2,
       "version_minor": 0
      },
      "text/plain": [
       "Saving the dataset (0/1 shards):   0%|          | 0/20353 [00:00<?, ? examples/s]"
      ]
     },
     "metadata": {},
     "output_type": "display_data"
    },
    {
     "data": {
      "application/vnd.jupyter.widget-view+json": {
       "model_id": "576fc8be13234edab09bb1b745689c7a",
       "version_major": 2,
       "version_minor": 0
      },
      "text/plain": [
       "Saving the dataset (0/1 shards):   0%|          | 0/10 [00:00<?, ? examples/s]"
      ]
     },
     "metadata": {},
     "output_type": "display_data"
    },
    {
     "data": {
      "application/vnd.jupyter.widget-view+json": {
       "model_id": "73b8146968e54b59b67c6ba2dfff0b87",
       "version_major": 2,
       "version_minor": 0
      },
      "text/plain": [
       "Saving the dataset (0/1 shards):   0%|          | 0/32000 [00:00<?, ? examples/s]"
      ]
     },
     "metadata": {},
     "output_type": "display_data"
    }
   ],
   "source": [
    "ds.save_to_disk('/mnt/data/sonia/datasets/diabetes/may10.dat')"
   ]
  },
  {
   "cell_type": "code",
   "execution_count": null,
   "metadata": {},
   "outputs": [],
   "source": []
  }
 ],
 "metadata": {
  "kernelspec": {
   "display_name": "otmt",
   "language": "python",
   "name": "python3"
  },
  "language_info": {
   "codemirror_mode": {
    "name": "ipython",
    "version": 3
   },
   "file_extension": ".py",
   "mimetype": "text/x-python",
   "name": "python",
   "nbconvert_exporter": "python",
   "pygments_lexer": "ipython3",
   "version": "3.11.4"
  },
  "orig_nbformat": 4
 },
 "nbformat": 4,
 "nbformat_minor": 2
}
